{
 "cells": [
  {
   "cell_type": "code",
   "execution_count": null,
   "metadata": {},
   "outputs": [],
   "source": [
    "%matplotlib inline\n",
    "%load_ext autoreload\n",
    "%autoreload 2"
   ]
  },
  {
   "cell_type": "code",
   "execution_count": null,
   "metadata": {},
   "outputs": [],
   "source": [
    "from pathlib import Path\n",
    "\n",
    "import pandas as pd\n",
    "import seaborn as sns\n",
    "from artifact_core.libs.resource_spec.tabular.spec import TabularDataSpec\n",
    "from artifact_experiment.libs.tracking.filesystem.client import FilesystemTrackingClient\n",
    "from demos.table_comparison.config.constants import (\n",
    "    LS_CAT_FEATURES,\n",
    "    LS_CTS_FEATURES,\n",
    "    TRAINING_DATASET_PATH,\n",
    ")\n",
    "from demos.table_comparison.tabular_vae import TabularVAE\n",
    "from matplotlib import pyplot as plt"
   ]
  },
  {
   "cell_type": "code",
   "execution_count": null,
   "metadata": {},
   "outputs": [],
   "source": [
    "sns.set_theme(style=\"whitegrid\", palette=\"colorblind\")"
   ]
  },
  {
   "cell_type": "code",
   "execution_count": null,
   "metadata": {},
   "outputs": [],
   "source": [
    "artifact_experiment_root = Path().absolute().parent.parent\n",
    "\n",
    "df_real = pd.read_csv(artifact_experiment_root / TRAINING_DATASET_PATH)\n",
    "\n",
    "df_real"
   ]
  },
  {
   "cell_type": "code",
   "execution_count": null,
   "metadata": {},
   "outputs": [],
   "source": [
    "data_spec = TabularDataSpec.from_df(\n",
    "    df=df_real,\n",
    "    ls_cts_features=LS_CTS_FEATURES,\n",
    "    ls_cat_features=LS_CAT_FEATURES,\n",
    ")"
   ]
  },
  {
   "cell_type": "code",
   "execution_count": null,
   "metadata": {},
   "outputs": [],
   "source": [
    "filesystem_tracker = FilesystemTrackingClient.build(experiment_id=\"demo\")"
   ]
  },
  {
   "cell_type": "code",
   "execution_count": null,
   "metadata": {},
   "outputs": [],
   "source": [
    "model = TabularVAE.build(data_spec=data_spec)"
   ]
  },
  {
   "cell_type": "code",
   "execution_count": null,
   "metadata": {},
   "outputs": [],
   "source": [
    "epoch_scores = model.fit(df=df_real, data_spec=data_spec, tracking_client=filesystem_tracker)"
   ]
  },
  {
   "cell_type": "code",
   "execution_count": null,
   "metadata": {},
   "outputs": [],
   "source": [
    "plt.figure(figsize=(10, 6))\n",
    "epoch_scores[\"TRAIN_LOSS\"].plot(color=sns.color_palette(\"colorblind\")[2], linewidth=2)\n",
    "plt.title(\"Train Loss\", fontsize=16, fontweight=\"bold\")\n",
    "plt.xlabel(\"Epoch\", fontsize=14)\n",
    "plt.ylabel(\"Training Loss\", fontsize=14)\n",
    "plt.grid(True, linestyle=\"--\", alpha=0.6)\n",
    "plt.xticks(fontsize=12)\n",
    "plt.yticks(fontsize=12)\n",
    "plt.tight_layout()"
   ]
  }
 ],
 "metadata": {
  "kernelspec": {
   "display_name": ".venv",
   "language": "python",
   "name": "python3"
  },
  "language_info": {
   "codemirror_mode": {
    "name": "ipython",
    "version": 3
   },
   "file_extension": ".py",
   "mimetype": "text/x-python",
   "name": "python",
   "nbconvert_exporter": "python",
   "pygments_lexer": "ipython3",
   "version": "3.11.8"
  }
 },
 "nbformat": 4,
 "nbformat_minor": 2
}
