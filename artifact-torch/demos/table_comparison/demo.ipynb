{
 "cells": [
  {
   "cell_type": "code",
   "execution_count": null,
   "metadata": {},
   "outputs": [],
   "source": [
    "%matplotlib inline\n",
    "%load_ext autoreload\n",
    "%autoreload 2"
   ]
  },
  {
   "cell_type": "code",
   "execution_count": null,
   "metadata": {},
   "outputs": [],
   "source": [
    "import os\n",
    "from pathlib import Path\n",
    "\n",
    "artifact_torch_root = Path().absolute().parent.parent\n",
    "\n",
    "os.chdir(artifact_torch_root)\n",
    "\n",
    "Path().absolute()"
   ]
  },
  {
   "cell_type": "code",
   "execution_count": null,
   "metadata": {},
   "outputs": [],
   "source": [
    "import pandas as pd\n",
    "import seaborn as sns\n",
    "from artifact_core.table_comparison import TabularDataSpec\n",
    "from artifact_experiment import DataSplit\n",
    "from artifact_experiment.tracking import FilesystemTrackingClient\n",
    "from artifact_torch.base.data.data_loader import DataLoader\n",
    "from artifact_torch.table_comparison.routine import TableComparisonRoutineData\n",
    "from matplotlib import pyplot as plt\n",
    "\n",
    "from demos.table_comparison.config.constants import (\n",
    "    BATCH_SIZE,\n",
    "    DROP_LAST,\n",
    "    EXPERIMENT_ID,\n",
    "    LS_CAT_FEATURES,\n",
    "    LS_CTS_FEATURES,\n",
    "    N_BINS_CTS,\n",
    "    SHUFFLE,\n",
    "    TRAINING_DATASET_PATH,\n",
    ")\n",
    "from demos.table_comparison.data.dataset import DemoDataset\n",
    "from demos.table_comparison.experiment.experiment import DemoTabularSynthesisExperiment\n",
    "from demos.table_comparison.libs.transformers.discretizer import Discretizer\n",
    "from demos.table_comparison.libs.transformers.encoder import Encoder\n",
    "from demos.table_comparison.model.protocols import TabularVAEInput, TabularVAEOutput\n",
    "from demos.table_comparison.model.synthesizer import TabularVAESynthesizer"
   ]
  },
  {
   "cell_type": "code",
   "execution_count": null,
   "metadata": {},
   "outputs": [],
   "source": [
    "sns.set_theme(style=\"whitegrid\", palette=\"colorblind\")"
   ]
  },
  {
   "cell_type": "code",
   "execution_count": null,
   "metadata": {},
   "outputs": [],
   "source": [
    "df_real = pd.read_csv(artifact_torch_root / TRAINING_DATASET_PATH)\n",
    "\n",
    "raw_data_spec = TabularDataSpec.from_df(\n",
    "    df=df_real,\n",
    "    ls_cts_features=LS_CTS_FEATURES,\n",
    "    ls_cat_features=LS_CAT_FEATURES,\n",
    ")\n",
    "\n",
    "df_real"
   ]
  },
  {
   "cell_type": "code",
   "execution_count": null,
   "metadata": {},
   "outputs": [],
   "source": [
    "discretizer = Discretizer(n_bins=N_BINS_CTS, ls_cts_features=raw_data_spec.ls_cts_features)\n",
    "\n",
    "discretizer.fit(df=df_real)\n",
    "\n",
    "df_discretized = discretizer.transform(df=df_real)\n",
    "\n",
    "df_discretized"
   ]
  },
  {
   "cell_type": "code",
   "execution_count": null,
   "metadata": {},
   "outputs": [],
   "source": [
    "encoder = Encoder()\n",
    "\n",
    "encoder.fit(df=df_discretized, ls_cat_features=list(df_discretized.columns))\n",
    "\n",
    "df_encoded = encoder.transform(df=df_discretized)\n",
    "\n",
    "encoded_data_spec = TabularDataSpec.from_df(df=df_encoded, ls_cat_features=list(df_encoded.columns))\n",
    "\n",
    "df_encoded"
   ]
  },
  {
   "cell_type": "code",
   "execution_count": null,
   "metadata": {},
   "outputs": [],
   "source": [
    "data_loaders = {\n",
    "    DataSplit.TRAIN: DataLoader(\n",
    "        dataset=DemoDataset(df_raw=df_real, discretizer=discretizer, encoder=encoder),\n",
    "        batch_size=BATCH_SIZE,\n",
    "        drop_last=DROP_LAST,\n",
    "        shuffle=SHUFFLE,\n",
    "    )\n",
    "}"
   ]
  },
  {
   "cell_type": "code",
   "execution_count": null,
   "metadata": {},
   "outputs": [],
   "source": [
    "artifact_routine_data = {DataSplit.TRAIN: TableComparisonRoutineData(df_real=df_real)}"
   ]
  },
  {
   "cell_type": "code",
   "execution_count": null,
   "metadata": {},
   "outputs": [],
   "source": [
    "model = TabularVAESynthesizer.build(\n",
    "    data_spec=encoded_data_spec, discretizer=discretizer, encoder=encoder\n",
    ")"
   ]
  },
  {
   "cell_type": "code",
   "execution_count": null,
   "metadata": {},
   "outputs": [],
   "source": [
    "from artifact_torch.base.components.callbacks.data_loader import DataLoaderCallbackResources\n",
    "from artifact_torch.base.model.io import LossOutput, ModelInput\n",
    "from artifact_torch.libs.components.callbacks.data_loader.loss import LoaderLossCallback\n",
    "\n",
    "loader: DataLoader[ModelInput] = 5\n",
    "\n",
    "LoaderLossCallback(5, DataSplit.TRAIN).execute(\n",
    "    resources=DataLoaderCallbackResources[ModelInput, LossOutput](\n",
    "        step=5, model=model, data_loader=loader\n",
    "    )\n",
    ")"
   ]
  },
  {
   "cell_type": "code",
   "execution_count": null,
   "metadata": {},
   "outputs": [],
   "source": [
    "LoaderLossCallback(5, DataSplit.TRAIN).execute(\n",
    "    resources=DataLoaderCallbackResources[TabularVAEInput, TabularVAEOutput](\n",
    "        step=5, model=model, data_loader=data_loaders[DataSplit.TRAIN]\n",
    "    )\n",
    ")"
   ]
  },
  {
   "cell_type": "code",
   "execution_count": null,
   "metadata": {},
   "outputs": [],
   "source": [
    "tracking_client = FilesystemTrackingClient.build(experiment_id=EXPERIMENT_ID)"
   ]
  },
  {
   "cell_type": "code",
   "execution_count": null,
   "metadata": {},
   "outputs": [],
   "source": [
    "experiment = DemoTabularSynthesisExperiment[TabularVAEInput, TabularVAEOutput].build(\n",
    "    model=model,\n",
    "    data_loaders=data_loaders,\n",
    "    artifact_routine_data=artifact_routine_data,\n",
    "    artifact_routine_data_spec=raw_data_spec,\n",
    "    tracking_client=tracking_client,\n",
    ")"
   ]
  },
  {
   "cell_type": "code",
   "execution_count": null,
   "metadata": {},
   "outputs": [],
   "source": [
    "experiment.run()"
   ]
  },
  {
   "cell_type": "code",
   "execution_count": null,
   "metadata": {},
   "outputs": [],
   "source": [
    "plt.figure(figsize=(10, 6))\n",
    "experiment.epoch_scores[\"loss_train\"].plot(color=sns.color_palette(\"colorblind\")[2], linewidth=2)\n",
    "plt.title(\"Train Loss\", fontsize=16, fontweight=\"bold\")\n",
    "plt.xlabel(\"Epoch\", fontsize=14)\n",
    "plt.ylabel(\"Training Loss\", fontsize=14)\n",
    "plt.grid(True, linestyle=\"--\", alpha=0.6)\n",
    "plt.xticks(fontsize=12)\n",
    "plt.yticks(fontsize=12)\n",
    "plt.tight_layout()"
   ]
  }
 ],
 "metadata": {
  "kernelspec": {
   "display_name": ".venv",
   "language": "python",
   "name": "python3"
  },
  "language_info": {
   "codemirror_mode": {
    "name": "ipython",
    "version": 3
   },
   "file_extension": ".py",
   "mimetype": "text/x-python",
   "name": "python",
   "nbconvert_exporter": "python",
   "pygments_lexer": "ipython3",
   "version": "3.11.8"
  }
 },
 "nbformat": 4,
 "nbformat_minor": 2
}
