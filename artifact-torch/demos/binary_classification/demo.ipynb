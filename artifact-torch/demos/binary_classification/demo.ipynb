{
 "cells": [
  {
   "cell_type": "code",
   "execution_count": 1,
   "metadata": {},
   "outputs": [],
   "source": [
    "%matplotlib inline\n",
    "%load_ext autoreload\n",
    "%autoreload 2"
   ]
  },
  {
   "cell_type": "code",
   "execution_count": 1,
   "metadata": {},
   "outputs": [
    {
     "ename": "KeyError",
     "evalue": "'ls_features'",
     "output_type": "error",
     "traceback": [
      "\u001b[31m---------------------------------------------------------------------------\u001b[39m",
      "\u001b[31mKeyError\u001b[39m                                  Traceback (most recent call last)",
      "\u001b[36mCell\u001b[39m\u001b[36m \u001b[39m\u001b[32mIn[1]\u001b[39m\u001b[32m, line 7\u001b[39m\n\u001b[32m      5\u001b[39m \u001b[38;5;28;01mfrom\u001b[39;00m\u001b[38;5;250m \u001b[39m\u001b[34;01martifact_core\u001b[39;00m\u001b[34;01m.\u001b[39;00m\u001b[34;01mlibs\u001b[39;00m\u001b[34;01m.\u001b[39;00m\u001b[34;01mresource_spec\u001b[39;00m\u001b[34;01m.\u001b[39;00m\u001b[34;01mbinary\u001b[39;00m\u001b[34;01m.\u001b[39;00m\u001b[34;01mspec\u001b[39;00m\u001b[38;5;250m \u001b[39m\u001b[38;5;28;01mimport\u001b[39;00m BinaryFeatureSpec\n\u001b[32m      6\u001b[39m \u001b[38;5;28;01mfrom\u001b[39;00m\u001b[38;5;250m \u001b[39m\u001b[34;01martifact_experiment\u001b[39;00m\u001b[34;01m.\u001b[39;00m\u001b[34;01mlibs\u001b[39;00m\u001b[34;01m.\u001b[39;00m\u001b[34;01mtracking\u001b[39;00m\u001b[34;01m.\u001b[39;00m\u001b[34;01mfilesystem\u001b[39;00m\u001b[34;01m.\u001b[39;00m\u001b[34;01mclient\u001b[39;00m\u001b[38;5;250m \u001b[39m\u001b[38;5;28;01mimport\u001b[39;00m FilesystemTrackingClient\n\u001b[32m----> \u001b[39m\u001b[32m7\u001b[39m \u001b[38;5;28;01mfrom\u001b[39;00m\u001b[38;5;250m \u001b[39m\u001b[34;01mdemos\u001b[39;00m\u001b[34;01m.\u001b[39;00m\u001b[34;01mbinary_classification\u001b[39;00m\u001b[34;01m.\u001b[39;00m\u001b[34;01mconfig\u001b[39;00m\u001b[34;01m.\u001b[39;00m\u001b[34;01mconstants\u001b[39;00m\u001b[38;5;250m \u001b[39m\u001b[38;5;28;01mimport\u001b[39;00m (\n\u001b[32m      8\u001b[39m     LABEL_FEATURE,\n\u001b[32m      9\u001b[39m     LS_CATEGORIES,\n\u001b[32m     10\u001b[39m     LS_FEATURES,\n\u001b[32m     11\u001b[39m     POSITIVE_CATEGORY,\n\u001b[32m     12\u001b[39m     TRAINING_DATASET_PATH,\n\u001b[32m     13\u001b[39m )\n\u001b[32m     14\u001b[39m \u001b[38;5;28;01mfrom\u001b[39;00m\u001b[38;5;250m \u001b[39m\u001b[34;01mdemos\u001b[39;00m\u001b[34;01m.\u001b[39;00m\u001b[34;01mbinary_classification\u001b[39;00m\u001b[34;01m.\u001b[39;00m\u001b[34;01mmlp_classifier\u001b[39;00m\u001b[38;5;250m \u001b[39m\u001b[38;5;28;01mimport\u001b[39;00m MLPClassifier\n\u001b[32m     15\u001b[39m \u001b[38;5;28;01mfrom\u001b[39;00m\u001b[38;5;250m \u001b[39m\u001b[34;01mmatplotlib\u001b[39;00m\u001b[38;5;250m \u001b[39m\u001b[38;5;28;01mimport\u001b[39;00m pyplot \u001b[38;5;28;01mas\u001b[39;00m plt\n",
      "\u001b[36mFile \u001b[39m\u001b[32m~\\Codebase\\artifact-ml\\artifact-torch\\demos\\binary_classification\\config\\constants.py:23\u001b[39m\n\u001b[32m     21\u001b[39m \u001b[38;5;66;03m# Data Config\u001b[39;00m\n\u001b[32m     22\u001b[39m TRAINING_DATASET_PATH: Path = _artifact_torch_root / Path(_data_config[\u001b[33m\"\u001b[39m\u001b[33mtraining_dataset_path\u001b[39m\u001b[33m\"\u001b[39m])\n\u001b[32m---> \u001b[39m\u001b[32m23\u001b[39m LS_FEATURES: List[\u001b[38;5;28mstr\u001b[39m] = \u001b[43m_data_config\u001b[49m\u001b[43m[\u001b[49m\u001b[33;43m\"\u001b[39;49m\u001b[33;43mls_features\u001b[39;49m\u001b[33;43m\"\u001b[39;49m\u001b[43m]\u001b[49m\n\u001b[32m     24\u001b[39m LABEL_FEATURE: \u001b[38;5;28mstr\u001b[39m = _data_config[\u001b[33m\"\u001b[39m\u001b[33mlabel_feature\u001b[39m\u001b[33m\"\u001b[39m]\n\u001b[32m     25\u001b[39m LS_CATEGORIES: List[\u001b[38;5;28mstr\u001b[39m] = _data_config[\u001b[33m\"\u001b[39m\u001b[33mls_categories\u001b[39m\u001b[33m\"\u001b[39m]\n",
      "\u001b[31mKeyError\u001b[39m: 'ls_features'"
     ]
    }
   ],
   "source": [
    "from pathlib import Path\n",
    "\n",
    "import pandas as pd\n",
    "import seaborn as sns\n",
    "from artifact_core.libs.resource_spec.binary.spec import BinaryFeatureSpec\n",
    "from artifact_experiment.libs.tracking.filesystem.client import FilesystemTrackingClient\n",
    "from matplotlib import pyplot as plt\n",
    "\n",
    "from demos.binary_classification.config.constants import (\n",
    "    LABEL_FEATURE,\n",
    "    LS_CATEGORIES,\n",
    "    LS_FEATURES,\n",
    "    POSITIVE_CATEGORY,\n",
    "    TRAINING_DATASET_PATH,\n",
    ")\n",
    "from demos.binary_classification.mlp_classifier import MLPClassifier"
   ]
  },
  {
   "cell_type": "code",
   "execution_count": 4,
   "metadata": {},
   "outputs": [
    {
     "data": {
      "text/plain": [
       "WindowsPath('c:/Users/hecto/Codebase/artifact-ml/artifact-torch/demos/binary_classification')"
      ]
     },
     "execution_count": 4,
     "metadata": {},
     "output_type": "execute_result"
    }
   ],
   "source": [
    "Path().absolute()"
   ]
  },
  {
   "cell_type": "code",
   "execution_count": null,
   "metadata": {},
   "outputs": [],
   "source": [
    "sns.set_theme(style=\"whitegrid\", palette=\"colorblind\")"
   ]
  },
  {
   "cell_type": "code",
   "execution_count": null,
   "metadata": {},
   "outputs": [],
   "source": [
    "artifact_experiment_root = Path().absolute().parent.parent\n",
    "\n",
    "df_train = pd.read_csv(artifact_experiment_root / TRAINING_DATASET_PATH)\n",
    "\n",
    "df_train"
   ]
  },
  {
   "cell_type": "code",
   "execution_count": null,
   "metadata": {},
   "outputs": [],
   "source": [
    "class_spec = BinaryFeatureSpec(\n",
    "    ls_categories=LS_CATEGORIES, positive_category=POSITIVE_CATEGORY, feature_name=LABEL_FEATURE\n",
    ")"
   ]
  },
  {
   "cell_type": "code",
   "execution_count": null,
   "metadata": {},
   "outputs": [],
   "source": [
    "filesystem_tracker = FilesystemTrackingClient.build(experiment_id=\"demo\")"
   ]
  },
  {
   "cell_type": "code",
   "execution_count": null,
   "metadata": {},
   "outputs": [],
   "source": [
    "model = MLPClassifier.build(class_spec=class_spec, ls_features=LS_FEATURES)"
   ]
  },
  {
   "cell_type": "code",
   "execution_count": null,
   "metadata": {},
   "outputs": [],
   "source": [
    "epoch_scores = model.fit(\n",
    "    df=df_train, class_spec=class_spec, ls_features=LS_FEATURES, tracking_client=filesystem_tracker\n",
    ")"
   ]
  },
  {
   "cell_type": "code",
   "execution_count": null,
   "metadata": {},
   "outputs": [],
   "source": [
    "plt.figure(figsize=(10, 6))\n",
    "epoch_scores[\"TRAIN_LOSS\"].plot(color=sns.color_palette(\"colorblind\")[2], linewidth=2)\n",
    "plt.title(\"Train Loss\", fontsize=16, fontweight=\"bold\")\n",
    "plt.xlabel(\"Epoch\", fontsize=14)\n",
    "plt.ylabel(\"Training Loss\", fontsize=14)\n",
    "plt.grid(True, linestyle=\"--\", alpha=0.6)\n",
    "plt.xticks(fontsize=12)\n",
    "plt.yticks(fontsize=12)\n",
    "plt.tight_layout()"
   ]
  }
 ],
 "metadata": {
  "kernelspec": {
   "display_name": ".venv",
   "language": "python",
   "name": "python3"
  },
  "language_info": {
   "codemirror_mode": {
    "name": "ipython",
    "version": 3
   },
   "file_extension": ".py",
   "mimetype": "text/x-python",
   "name": "python",
   "nbconvert_exporter": "python",
   "pygments_lexer": "ipython3",
   "version": "3.11.8"
  }
 },
 "nbformat": 4,
 "nbformat_minor": 2
}
