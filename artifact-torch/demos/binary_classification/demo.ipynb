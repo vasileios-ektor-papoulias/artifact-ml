{
 "cells": [
  {
   "cell_type": "code",
   "execution_count": 1,
   "metadata": {},
   "outputs": [],
   "source": [
    "%matplotlib inline\n",
    "%load_ext autoreload\n",
    "%autoreload 2"
   ]
  },
  {
   "cell_type": "code",
   "execution_count": 2,
   "metadata": {},
   "outputs": [
    {
     "data": {
      "text/plain": [
       "WindowsPath('c:/Users/hecto/Codebase/artifact-ml/artifact-torch')"
      ]
     },
     "execution_count": 2,
     "metadata": {},
     "output_type": "execute_result"
    }
   ],
   "source": [
    "import os\n",
    "from pathlib import Path\n",
    "\n",
    "artifact_torch_root = Path().absolute().parent.parent\n",
    "\n",
    "os.chdir(artifact_torch_root)\n",
    "\n",
    "Path().absolute()"
   ]
  },
  {
   "cell_type": "code",
   "execution_count": 3,
   "metadata": {},
   "outputs": [],
   "source": [
    "import pandas as pd\n",
    "import seaborn as sns\n",
    "from artifact_core.libs.resource_spec.binary.spec import BinaryFeatureSpec\n",
    "from artifact_experiment.libs.tracking.filesystem.client import FilesystemTrackingClient\n",
    "from matplotlib import pyplot as plt\n",
    "\n",
    "from demos.binary_classification.config.constants import (\n",
    "    LABEL_FEATURE,\n",
    "    LS_CATEGORIES,\n",
    "    LS_FEATURES,\n",
    "    POSITIVE_CATEGORY,\n",
    "    TRAINING_DATASET_PATH,\n",
    ")\n",
    "from demos.binary_classification.mlp_classifier import MLPClassifier"
   ]
  },
  {
   "cell_type": "code",
   "execution_count": 4,
   "metadata": {},
   "outputs": [],
   "source": [
    "sns.set_theme(style=\"whitegrid\", palette=\"colorblind\")"
   ]
  },
  {
   "cell_type": "code",
   "execution_count": 5,
   "metadata": {},
   "outputs": [
    {
     "data": {
      "text/html": [
       "<div>\n",
       "<style scoped>\n",
       "    .dataframe tbody tr th:only-of-type {\n",
       "        vertical-align: middle;\n",
       "    }\n",
       "\n",
       "    .dataframe tbody tr th {\n",
       "        vertical-align: top;\n",
       "    }\n",
       "\n",
       "    .dataframe thead th {\n",
       "        text-align: right;\n",
       "    }\n",
       "</style>\n",
       "<table border=\"1\" class=\"dataframe\">\n",
       "  <thead>\n",
       "    <tr style=\"text-align: right;\">\n",
       "      <th></th>\n",
       "      <th>weight</th>\n",
       "      <th>height</th>\n",
       "      <th>age</th>\n",
       "      <th>bmi</th>\n",
       "      <th>arthritis_true</th>\n",
       "    </tr>\n",
       "  </thead>\n",
       "  <tbody>\n",
       "    <tr>\n",
       "      <th>0</th>\n",
       "      <td>73.1</td>\n",
       "      <td>168.7</td>\n",
       "      <td>41</td>\n",
       "      <td>25.7</td>\n",
       "      <td>1</td>\n",
       "    </tr>\n",
       "    <tr>\n",
       "      <th>1</th>\n",
       "      <td>116.3</td>\n",
       "      <td>166.6</td>\n",
       "      <td>21</td>\n",
       "      <td>41.9</td>\n",
       "      <td>1</td>\n",
       "    </tr>\n",
       "    <tr>\n",
       "      <th>2</th>\n",
       "      <td>99.9</td>\n",
       "      <td>158.8</td>\n",
       "      <td>23</td>\n",
       "      <td>39.6</td>\n",
       "      <td>1</td>\n",
       "    </tr>\n",
       "    <tr>\n",
       "      <th>3</th>\n",
       "      <td>89.9</td>\n",
       "      <td>180.4</td>\n",
       "      <td>64</td>\n",
       "      <td>27.6</td>\n",
       "      <td>1</td>\n",
       "    </tr>\n",
       "    <tr>\n",
       "      <th>4</th>\n",
       "      <td>56.7</td>\n",
       "      <td>173.8</td>\n",
       "      <td>32</td>\n",
       "      <td>18.8</td>\n",
       "      <td>0</td>\n",
       "    </tr>\n",
       "    <tr>\n",
       "      <th>...</th>\n",
       "      <td>...</td>\n",
       "      <td>...</td>\n",
       "      <td>...</td>\n",
       "      <td>...</td>\n",
       "      <td>...</td>\n",
       "    </tr>\n",
       "    <tr>\n",
       "      <th>9995</th>\n",
       "      <td>109.3</td>\n",
       "      <td>193.9</td>\n",
       "      <td>31</td>\n",
       "      <td>29.1</td>\n",
       "      <td>1</td>\n",
       "    </tr>\n",
       "    <tr>\n",
       "      <th>9996</th>\n",
       "      <td>112.3</td>\n",
       "      <td>152.3</td>\n",
       "      <td>64</td>\n",
       "      <td>48.4</td>\n",
       "      <td>1</td>\n",
       "    </tr>\n",
       "    <tr>\n",
       "      <th>9997</th>\n",
       "      <td>116.0</td>\n",
       "      <td>165.2</td>\n",
       "      <td>33</td>\n",
       "      <td>42.5</td>\n",
       "      <td>1</td>\n",
       "    </tr>\n",
       "    <tr>\n",
       "      <th>9998</th>\n",
       "      <td>74.8</td>\n",
       "      <td>172.2</td>\n",
       "      <td>76</td>\n",
       "      <td>25.2</td>\n",
       "      <td>0</td>\n",
       "    </tr>\n",
       "    <tr>\n",
       "      <th>9999</th>\n",
       "      <td>61.3</td>\n",
       "      <td>158.6</td>\n",
       "      <td>31</td>\n",
       "      <td>24.4</td>\n",
       "      <td>1</td>\n",
       "    </tr>\n",
       "  </tbody>\n",
       "</table>\n",
       "<p>10000 rows × 5 columns</p>\n",
       "</div>"
      ],
      "text/plain": [
       "      weight  height  age   bmi  arthritis_true\n",
       "0       73.1   168.7   41  25.7               1\n",
       "1      116.3   166.6   21  41.9               1\n",
       "2       99.9   158.8   23  39.6               1\n",
       "3       89.9   180.4   64  27.6               1\n",
       "4       56.7   173.8   32  18.8               0\n",
       "...      ...     ...  ...   ...             ...\n",
       "9995   109.3   193.9   31  29.1               1\n",
       "9996   112.3   152.3   64  48.4               1\n",
       "9997   116.0   165.2   33  42.5               1\n",
       "9998    74.8   172.2   76  25.2               0\n",
       "9999    61.3   158.6   31  24.4               1\n",
       "\n",
       "[10000 rows x 5 columns]"
      ]
     },
     "execution_count": 5,
     "metadata": {},
     "output_type": "execute_result"
    }
   ],
   "source": [
    "df_train = pd.read_csv(artifact_torch_root / TRAINING_DATASET_PATH)\n",
    "\n",
    "df_train"
   ]
  },
  {
   "cell_type": "code",
   "execution_count": 6,
   "metadata": {},
   "outputs": [
    {
     "data": {
      "text/plain": [
       "BinaryFeatureSpec(feature_name='arthritis_true', categories=['0', '1'], positive_category='1', negative_category='0')"
      ]
     },
     "execution_count": 6,
     "metadata": {},
     "output_type": "execute_result"
    }
   ],
   "source": [
    "class_spec = BinaryFeatureSpec(\n",
    "    ls_categories=LS_CATEGORIES, positive_category=POSITIVE_CATEGORY, feature_name=LABEL_FEATURE\n",
    ")\n",
    "\n",
    "class_spec"
   ]
  },
  {
   "cell_type": "code",
   "execution_count": 7,
   "metadata": {},
   "outputs": [
    {
     "data": {
      "application/vnd.jupyter.widget-view+json": {
       "model_id": "a458539a2d894320b931ec9dab4cfe7c",
       "version_major": 2,
       "version_minor": 0
      },
      "text/plain": [
       "HBox(children=(Button(description='Open Run Dir', icon='folder-open', layout=Layout(height='40px', width='180p…"
      ]
     },
     "metadata": {},
     "output_type": "display_data"
    }
   ],
   "source": [
    "filesystem_tracker = FilesystemTrackingClient.build(experiment_id=\"demo\")"
   ]
  },
  {
   "cell_type": "code",
   "execution_count": 8,
   "metadata": {},
   "outputs": [],
   "source": [
    "model = MLPClassifier.build(class_spec=class_spec, ls_features=LS_FEATURES)"
   ]
  },
  {
   "cell_type": "code",
   "execution_count": 9,
   "metadata": {},
   "outputs": [
    {
     "name": "stdout",
     "output_type": "stream",
     "text": [
      "Training on device: cpu\n"
     ]
    },
    {
     "name": "stderr",
     "output_type": "stream",
     "text": [
      "                                                                        \r"
     ]
    }
   ],
   "source": [
    "epoch_scores = model.fit(\n",
    "    df=df_train, class_spec=class_spec, ls_features=LS_FEATURES, tracking_client=filesystem_tracker\n",
    ")"
   ]
  },
  {
   "cell_type": "code",
   "execution_count": null,
   "metadata": {},
   "outputs": [],
   "source": [
    "plt.figure(figsize=(10, 6))\n",
    "epoch_scores[\"TRAIN_LOSS\"].plot(color=sns.color_palette(\"colorblind\")[2], linewidth=2)\n",
    "plt.title(\"Train Loss\", fontsize=16, fontweight=\"bold\")\n",
    "plt.xlabel(\"Epoch\", fontsize=14)\n",
    "plt.ylabel(\"Training Loss\", fontsize=14)\n",
    "plt.grid(True, linestyle=\"--\", alpha=0.6)\n",
    "plt.xticks(fontsize=12)\n",
    "plt.yticks(fontsize=12)\n",
    "plt.tight_layout()"
   ]
  }
 ],
 "metadata": {
  "kernelspec": {
   "display_name": ".venv",
   "language": "python",
   "name": "python3"
  },
  "language_info": {
   "codemirror_mode": {
    "name": "ipython",
    "version": 3
   },
   "file_extension": ".py",
   "mimetype": "text/x-python",
   "name": "python",
   "nbconvert_exporter": "python",
   "pygments_lexer": "ipython3",
   "version": "3.11.8"
  }
 },
 "nbformat": 4,
 "nbformat_minor": 2
}
