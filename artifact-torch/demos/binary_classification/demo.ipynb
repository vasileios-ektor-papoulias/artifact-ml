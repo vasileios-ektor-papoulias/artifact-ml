{
 "cells": [
  {
   "cell_type": "code",
   "execution_count": null,
   "metadata": {},
   "outputs": [],
   "source": [
    "%matplotlib inline\n",
    "%load_ext autoreload\n",
    "%autoreload 2"
   ]
  },
  {
   "cell_type": "code",
   "execution_count": null,
   "metadata": {},
   "outputs": [],
   "source": [
    "import os\n",
    "from pathlib import Path\n",
    "\n",
    "artifact_torch_root = Path().absolute().parent.parent\n",
    "\n",
    "os.chdir(artifact_torch_root)\n",
    "\n",
    "Path().absolute()"
   ]
  },
  {
   "cell_type": "code",
   "execution_count": null,
   "metadata": {},
   "outputs": [],
   "source": [
    "import pandas as pd\n",
    "import seaborn as sns\n",
    "from artifact_core.binary_classification import BinaryFeatureSpec\n",
    "from artifact_core.libs.resources.categorical.category_store.binary import BinaryCategoryStore\n",
    "from artifact_experiment import DataSplit\n",
    "from artifact_experiment.tracking import FilesystemTrackingClient\n",
    "from matplotlib import pyplot as plt\n",
    "\n",
    "from demos.binary_classification.config.constants import (\n",
    "    EXPERIMENT_ID,\n",
    "    LABEL_FEATURE,\n",
    "    LS_CATEGORIES,\n",
    "    LS_FEATURES,\n",
    "    POSITIVE_CATEGORY,\n",
    "    TRAINING_DATASET_PATH,\n",
    ")\n",
    "from demos.binary_classification.experiment.experiment import DemoBinaryClassificationExperiment\n",
    "from demos.binary_classification.model.classifier import MLPClassifier"
   ]
  },
  {
   "cell_type": "code",
   "execution_count": null,
   "metadata": {},
   "outputs": [],
   "source": [
    "sns.set_theme(style=\"whitegrid\", palette=\"colorblind\")"
   ]
  },
  {
   "cell_type": "code",
   "execution_count": null,
   "metadata": {},
   "outputs": [],
   "source": [
    "df_train = pd.read_csv(artifact_torch_root / TRAINING_DATASET_PATH)\n",
    "\n",
    "df_train"
   ]
  },
  {
   "cell_type": "code",
   "execution_count": null,
   "metadata": {},
   "outputs": [],
   "source": [
    "class_spec = BinaryFeatureSpec(\n",
    "    ls_categories=LS_CATEGORIES, positive_category=POSITIVE_CATEGORY, feature_name=LABEL_FEATURE\n",
    ")\n",
    "\n",
    "class_spec"
   ]
  },
  {
   "cell_type": "code",
   "execution_count": null,
   "metadata": {},
   "outputs": [],
   "source": [
    "from artifact_torch.base.data.data_loader import DataLoader\n",
    "\n",
    "from demos.binary_classification.config.constants import BATCH_SIZE, DROP_LAST, SHUFFLE\n",
    "from demos.binary_classification.data.dataset import MLPClassifierDataset\n",
    "\n",
    "data_loaders = {\n",
    "    DataSplit.TRAIN: DataLoader(\n",
    "        dataset=MLPClassifierDataset(\n",
    "            df=df_train, ls_features=LS_FEATURES, label_feature=class_spec.feature_name\n",
    "        ),\n",
    "        batch_size=BATCH_SIZE,\n",
    "        drop_last=DROP_LAST,\n",
    "        shuffle=SHUFFLE,\n",
    "    )\n",
    "}"
   ]
  },
  {
   "cell_type": "code",
   "execution_count": null,
   "metadata": {},
   "outputs": [],
   "source": [
    "from artifact_torch.binary_classification.routine import BinaryClassificationRoutineData\n",
    "\n",
    "classification_data = df_train.drop(class_spec.feature_name, axis=1)\n",
    "\n",
    "id_to_category = df_train[class_spec.feature_name].to_dict()\n",
    "true_category_store = BinaryCategoryStore.from_categories_and_spec(\n",
    "    feature_spec=class_spec, id_to_category=id_to_category\n",
    ")\n",
    "\n",
    "artifact_routine_data = {\n",
    "    DataSplit.TRAIN: BinaryClassificationRoutineData[pd.DataFrame](\n",
    "        true_category_store=true_category_store, classification_data=classification_data\n",
    "    )\n",
    "}"
   ]
  },
  {
   "cell_type": "code",
   "execution_count": null,
   "metadata": {},
   "outputs": [],
   "source": [
    "model = MLPClassifier.build(class_spec=class_spec, ls_features=LS_FEATURES)"
   ]
  },
  {
   "cell_type": "code",
   "execution_count": null,
   "metadata": {},
   "outputs": [],
   "source": [
    "tracking_client = FilesystemTrackingClient.build(experiment_id=EXPERIMENT_ID)"
   ]
  },
  {
   "cell_type": "code",
   "execution_count": null,
   "metadata": {},
   "outputs": [],
   "source": [
    "experiment = DemoBinaryClassificationExperiment.build(\n",
    "    model=model,\n",
    "    data_loaders=data_loaders,\n",
    "    artifact_routine_data=artifact_routine_data,\n",
    "    artifact_routine_data_spec=class_spec,\n",
    "    tracking_client=tracking_client,\n",
    ")"
   ]
  },
  {
   "cell_type": "code",
   "execution_count": null,
   "metadata": {},
   "outputs": [],
   "source": [
    "experiment.run()"
   ]
  },
  {
   "cell_type": "code",
   "execution_count": null,
   "metadata": {},
   "outputs": [],
   "source": [
    "plt.figure(figsize=(10, 6))\n",
    "experiment.epoch_scores[\"LOSS_TRAIN\"].plot(color=sns.color_palette(\"colorblind\")[2], linewidth=2)\n",
    "plt.title(\"Train Loss\", fontsize=16, fontweight=\"bold\")\n",
    "plt.xlabel(\"Epoch\", fontsize=14)\n",
    "plt.ylabel(\"Training Loss\", fontsize=14)\n",
    "plt.grid(True, linestyle=\"--\", alpha=0.6)\n",
    "plt.xticks(fontsize=12)\n",
    "plt.yticks(fontsize=12)\n",
    "plt.tight_layout()"
   ]
  }
 ],
 "metadata": {
  "kernelspec": {
   "display_name": ".venv",
   "language": "python",
   "name": "python3"
  },
  "language_info": {
   "codemirror_mode": {
    "name": "ipython",
    "version": 3
   },
   "file_extension": ".py",
   "mimetype": "text/x-python",
   "name": "python",
   "nbconvert_exporter": "python",
   "pygments_lexer": "ipython3",
   "version": "3.11.8"
  }
 },
 "nbformat": 4,
 "nbformat_minor": 2
}
