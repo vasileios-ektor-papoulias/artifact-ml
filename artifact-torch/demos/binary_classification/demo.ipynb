{
 "cells": [
  {
   "cell_type": "code",
   "execution_count": null,
   "metadata": {},
   "outputs": [],
   "source": [
    "%matplotlib inline\n",
    "%load_ext autoreload\n",
    "%autoreload 2"
   ]
  },
  {
   "cell_type": "code",
   "execution_count": null,
   "metadata": {},
   "outputs": [],
   "source": [
    "import os\n",
    "from pathlib import Path\n",
    "\n",
    "artifact_torch_root = Path().absolute().parent.parent\n",
    "\n",
    "os.chdir(artifact_torch_root)\n",
    "\n",
    "Path().absolute()"
   ]
  },
  {
   "cell_type": "code",
   "execution_count": null,
   "metadata": {},
   "outputs": [],
   "source": [
    "import pandas as pd\n",
    "import seaborn as sns\n",
    "from artifact_core.libs.resource_spec.binary.spec import BinaryFeatureSpec\n",
    "from artifact_experiment.libs.tracking.filesystem.client import FilesystemTrackingClient\n",
    "from matplotlib import pyplot as plt\n",
    "\n",
    "from demos.binary_classification.config.constants import (\n",
    "    LABEL_FEATURE,\n",
    "    LS_CATEGORIES,\n",
    "    LS_FEATURES,\n",
    "    POSITIVE_CATEGORY,\n",
    "    TRAINING_DATASET_PATH,\n",
    ")\n",
    "from demos.binary_classification.mlp_classifier import MLPClassifier"
   ]
  },
  {
   "cell_type": "code",
   "execution_count": null,
   "metadata": {},
   "outputs": [],
   "source": [
    "sns.set_theme(style=\"whitegrid\", palette=\"colorblind\")"
   ]
  },
  {
   "cell_type": "code",
   "execution_count": null,
   "metadata": {},
   "outputs": [],
   "source": [
    "df_train = pd.read_csv(artifact_torch_root / TRAINING_DATASET_PATH)\n",
    "\n",
    "df_train"
   ]
  },
  {
   "cell_type": "code",
   "execution_count": null,
   "metadata": {},
   "outputs": [],
   "source": [
    "class_spec = BinaryFeatureSpec(\n",
    "    ls_categories=LS_CATEGORIES, positive_category=POSITIVE_CATEGORY, feature_name=LABEL_FEATURE\n",
    ")\n",
    "\n",
    "class_spec"
   ]
  },
  {
   "cell_type": "code",
   "execution_count": null,
   "metadata": {},
   "outputs": [],
   "source": [
    "filesystem_tracker = FilesystemTrackingClient.build(experiment_id=\"demo\")"
   ]
  },
  {
   "cell_type": "code",
   "execution_count": null,
   "metadata": {},
   "outputs": [],
   "source": [
    "model = MLPClassifier.build(class_spec=class_spec, ls_features=LS_FEATURES)"
   ]
  },
  {
   "cell_type": "code",
   "execution_count": null,
   "metadata": {},
   "outputs": [],
   "source": [
    "epoch_scores = model.fit(\n",
    "    df=df_train, class_spec=class_spec, ls_features=LS_FEATURES, tracking_client=filesystem_tracker\n",
    ")"
   ]
  },
  {
   "cell_type": "code",
   "execution_count": null,
   "metadata": {},
   "outputs": [],
   "source": [
    "plt.figure(figsize=(10, 6))\n",
    "epoch_scores[\"TRAIN_LOSS\"].plot(color=sns.color_palette(\"colorblind\")[2], linewidth=2)\n",
    "plt.title(\"Train Loss\", fontsize=16, fontweight=\"bold\")\n",
    "plt.xlabel(\"Epoch\", fontsize=14)\n",
    "plt.ylabel(\"Training Loss\", fontsize=14)\n",
    "plt.grid(True, linestyle=\"--\", alpha=0.6)\n",
    "plt.xticks(fontsize=12)\n",
    "plt.yticks(fontsize=12)\n",
    "plt.tight_layout()"
   ]
  }
 ],
 "metadata": {
  "kernelspec": {
   "display_name": ".venv",
   "language": "python",
   "name": "python3"
  },
  "language_info": {
   "codemirror_mode": {
    "name": "ipython",
    "version": 3
   },
   "file_extension": ".py",
   "mimetype": "text/x-python",
   "name": "python",
   "nbconvert_exporter": "python",
   "pygments_lexer": "ipython3",
   "version": "3.11.8"
  }
 },
 "nbformat": 4,
 "nbformat_minor": 2
}
