{
 "cells": [
  {
   "cell_type": "code",
   "execution_count": null,
   "metadata": {},
   "outputs": [],
   "source": [
    "%matplotlib inline\n",
    "%load_ext autoreload\n",
    "%autoreload 2"
   ]
  },
  {
   "cell_type": "code",
   "execution_count": null,
   "metadata": {},
   "outputs": [],
   "source": [
    "from pathlib import Path\n",
    "\n",
    "Path().absolute()"
   ]
  },
  {
   "cell_type": "code",
   "execution_count": null,
   "metadata": {},
   "outputs": [],
   "source": [
    "import pandas as pd\n",
    "from artifact_core.libs.resource_spec.tabular.spec import TabularDataSpec\n",
    "from artifact_experiment.libs.tracking.filesystem.client import FilesystemTrackingClient\n",
    "from artifact_torch.base.data.data_loader import DataLoader\n",
    "\n",
    "from demo.config.constants import (\n",
    "    BATCH_SIZE,\n",
    "    BN_EPSILON,\n",
    "    BN_MOMENTUM,\n",
    "    DROP_LAST,\n",
    "    DROPOUT_RATE,\n",
    "    LEAKY_RELU_SLOPE,\n",
    "    LOSS_BETA,\n",
    "    LS_ENCODER_LAYER_SIZES,\n",
    "    SHUFFLE,\n",
    ")\n",
    "from demo.data.dataset import TabularVAEDataset\n",
    "from demo.data.feature_flattener import FeatureFlattener\n",
    "from demo.model.synthesizer import TabularVAESynthesizer, TabularVAESynthesizerConfig\n",
    "from demo.trainer.trainer import TabularVAETrainer\n",
    "from demo.trainer.validation_routine import TabularVAEValidationRoutine\n"
   ]
  },
  {
   "cell_type": "code",
   "execution_count": null,
   "metadata": {},
   "outputs": [],
   "source": [
    "artifact_experiment_root = Path().absolute().parent\n",
    "\n",
    "df_real = pd.read_csv(artifact_experiment_root / \"assets/real.csv\")\n",
    "df_real"
   ]
  },
  {
   "cell_type": "code",
   "execution_count": null,
   "metadata": {},
   "outputs": [],
   "source": [
    "ls_cts_features = [\"Age\", \"RestingBP\", \"Cholesterol\", \"MaxHR\", \"Oldpeak\"]\n",
    "\n",
    "resource_spec = TabularDataSpec.from_df(\n",
    "    df=df_real,\n",
    "    ls_cts_features=ls_cts_features,\n",
    "    ls_cat_features=[feature for feature in df_real.columns if feature not in ls_cts_features],\n",
    ")"
   ]
  },
  {
   "cell_type": "code",
   "execution_count": null,
   "metadata": {},
   "outputs": [],
   "source": [
    "flattener = FeatureFlattener(data_spec=resource_spec)\n",
    "\n",
    "flattener.fit(df=df_real)"
   ]
  },
  {
   "cell_type": "code",
   "execution_count": null,
   "metadata": {},
   "outputs": [],
   "source": [
    "architecture_config = TabularVAESynthesizerConfig(\n",
    "    ls_encoder_layer_sizes=[len(flattener.ls_flattened_column_names)] + LS_ENCODER_LAYER_SIZES,\n",
    "    loss_beta=LOSS_BETA,\n",
    "    leaky_relu_slope=LEAKY_RELU_SLOPE,\n",
    "    bn_momentum=BN_MOMENTUM,\n",
    "    bn_epsilon=BN_EPSILON,\n",
    "    dropout_rate=DROPOUT_RATE,\n",
    ")\n",
    "\n",
    "model = TabularVAESynthesizer.build(config=architecture_config, flattener=flattener)"
   ]
  },
  {
   "cell_type": "code",
   "execution_count": null,
   "metadata": {},
   "outputs": [],
   "source": [
    "filesystem_tracker = FilesystemTrackingClient.build(experiment_id=\"demo\")\n",
    "dataset = TabularVAEDataset(df=df_real, flattener=flattener)\n",
    "loader = DataLoader(dataset=dataset, batch_size=BATCH_SIZE, drop_last=DROP_LAST, shuffle=SHUFFLE)\n",
    "validation_routine = TabularVAEValidationRoutine.build(\n",
    "    df_real=df_real,\n",
    "    tabular_data_spec=resource_spec,\n",
    "    train_loader=loader,\n",
    "    tracking_client=filesystem_tracker,\n",
    ")\n",
    "trainer = TabularVAETrainer.build(\n",
    "    model=model,\n",
    "    train_loader=loader,\n",
    "    validation_routine=validation_routine,\n",
    "    tracking_client=filesystem_tracker,\n",
    ")"
   ]
  },
  {
   "cell_type": "code",
   "execution_count": null,
   "metadata": {},
   "outputs": [],
   "source": [
    "trainer.train()"
   ]
  },
  {
   "cell_type": "code",
   "execution_count": null,
   "metadata": {},
   "outputs": [],
   "source": [
    "trainer.epoch_scores"
   ]
  }
 ],
 "metadata": {
  "kernelspec": {
   "display_name": ".venv",
   "language": "python",
   "name": "python3"
  },
  "language_info": {
   "codemirror_mode": {
    "name": "ipython",
    "version": 3
   },
   "file_extension": ".py",
   "mimetype": "text/x-python",
   "name": "python",
   "nbconvert_exporter": "python",
   "pygments_lexer": "ipython3",
   "version": "3.11.8"
  }
 },
 "nbformat": 4,
 "nbformat_minor": 2
}
