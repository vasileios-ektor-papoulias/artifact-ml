{
 "cells": [
  {
   "cell_type": "code",
   "execution_count": null,
   "metadata": {},
   "outputs": [],
   "source": [
    "%matplotlib inline\n",
    "%load_ext autoreload\n",
    "%autoreload 2"
   ]
  },
  {
   "cell_type": "code",
   "execution_count": null,
   "metadata": {},
   "outputs": [],
   "source": [
    "from pathlib import Path\n",
    "from typing import List\n",
    "\n",
    "import pandas as pd\n",
    "from artifact_core.binary_classification import (\n",
    "    BinaryClassificationArrayCollectionType,\n",
    "    BinaryClassificationArrayType,\n",
    "    BinaryClassificationPlotCollectionType,\n",
    "    BinaryClassificationPlotType,\n",
    "    BinaryClassificationScoreCollectionType,\n",
    "    BinaryClassificationScoreType,\n",
    "    BinaryFeatureSpec,\n",
    ")\n",
    "from artifact_experiment.binary_classification import BinaryClassificationPlan\n",
    "from artifact_experiment.tracking import (\n",
    "    ClearMLTrackingClient,\n",
    "    FilesystemTrackingClient,\n",
    "    MlflowTrackingClient,\n",
    "    NeptuneTrackingClient,\n",
    ")\n",
    "from scipy.special import logit as logt_fn"
   ]
  },
  {
   "cell_type": "markdown",
   "metadata": {},
   "source": [
    "# Source"
   ]
  },
  {
   "cell_type": "code",
   "execution_count": null,
   "metadata": {},
   "outputs": [],
   "source": [
    "artifact_experiment_root = Path().absolute().parent\n",
    "\n",
    "df_classification_results = pd.read_csv(\n",
    "    artifact_experiment_root / \"assets/binary_classification.csv\"\n",
    ")\n",
    "\n",
    "df_classification_results"
   ]
  },
  {
   "cell_type": "code",
   "execution_count": null,
   "metadata": {},
   "outputs": [],
   "source": [
    "true = df_classification_results[\"arthritis_true\"].to_dict()\n",
    "predicted = df_classification_results[\"arthritis_pred\"].to_dict()\n",
    "probs_pos = df_classification_results[\"arthritis_prob_est\"].to_dict()\n",
    "logits = df_classification_results[\"arthritis_prob_est\"].apply(logt_fn).to_dict()"
   ]
  },
  {
   "cell_type": "code",
   "execution_count": null,
   "metadata": {},
   "outputs": [],
   "source": [
    "class_spec = BinaryFeatureSpec(ls_categories=[\"0\", \"1\"], positive_category=\"1\")\n",
    "\n",
    "class_spec"
   ]
  },
  {
   "cell_type": "markdown",
   "metadata": {},
   "source": [
    "# Validation Plan"
   ]
  },
  {
   "cell_type": "code",
   "execution_count": null,
   "metadata": {},
   "outputs": [],
   "source": [
    "class MyValidationPlan(BinaryClassificationPlan):\n",
    "    @staticmethod\n",
    "    def _get_score_types() -> List[BinaryClassificationScoreType]:\n",
    "        return [\n",
    "            BinaryClassificationScoreType.PRECISION,\n",
    "            BinaryClassificationScoreType.RECALL,\n",
    "            BinaryClassificationScoreType.ROC_AUC,\n",
    "            BinaryClassificationScoreType.PR_AUC,\n",
    "        ]\n",
    "\n",
    "    @staticmethod\n",
    "    def _get_array_types() -> List[BinaryClassificationArrayType]:\n",
    "        return []\n",
    "\n",
    "    @staticmethod\n",
    "    def _get_plot_types() -> List[BinaryClassificationPlotType]:\n",
    "        return [\n",
    "            BinaryClassificationPlotType.SCORE_PDF,\n",
    "            BinaryClassificationPlotType.GROUND_TRUTH_PROB_PDF,\n",
    "        ]\n",
    "\n",
    "    @staticmethod\n",
    "    def _get_score_collection_types() -> List[BinaryClassificationScoreCollectionType]:\n",
    "        return [\n",
    "            BinaryClassificationScoreCollectionType.SCORE_MEANS,\n",
    "            BinaryClassificationScoreCollectionType.SCORE_STDS,\n",
    "            BinaryClassificationScoreCollectionType.SCORE_STATS,\n",
    "        ]\n",
    "\n",
    "    @staticmethod\n",
    "    def _get_array_collection_types() -> List[BinaryClassificationArrayCollectionType]:\n",
    "        return []\n",
    "\n",
    "    @staticmethod\n",
    "    def _get_plot_collection_types() -> List[BinaryClassificationPlotCollectionType]:\n",
    "        return [\n",
    "            BinaryClassificationPlotCollectionType.THRESHOLD_VARIATION_CURVES,\n",
    "            BinaryClassificationPlotCollectionType.CONFUSION_MATRIX_PLOTS,\n",
    "        ]\n",
    "\n",
    "\n",
    "plan = MyValidationPlan.build(resource_spec=class_spec)"
   ]
  },
  {
   "cell_type": "code",
   "execution_count": null,
   "metadata": {},
   "outputs": [],
   "source": [
    "plan.execute_classifier_evaluation(true=true, predicted=predicted, probs_pos=probs_pos)"
   ]
  },
  {
   "cell_type": "markdown",
   "metadata": {},
   "source": [
    "# Filesystem Logging"
   ]
  },
  {
   "cell_type": "code",
   "execution_count": null,
   "metadata": {},
   "outputs": [],
   "source": [
    "filesystem_tracker = FilesystemTrackingClient.build(experiment_id=\"demo\")"
   ]
  },
  {
   "cell_type": "code",
   "execution_count": null,
   "metadata": {},
   "outputs": [],
   "source": [
    "plan = MyValidationPlan.build(resource_spec=class_spec, tracking_client=filesystem_tracker)"
   ]
  },
  {
   "cell_type": "code",
   "execution_count": null,
   "metadata": {},
   "outputs": [],
   "source": [
    "plan.execute_classifier_evaluation(true=true, predicted=predicted, probs_pos=probs_pos)"
   ]
  },
  {
   "cell_type": "code",
   "execution_count": null,
   "metadata": {},
   "outputs": [],
   "source": [
    "filesystem_tracker.run.stop()"
   ]
  },
  {
   "cell_type": "markdown",
   "metadata": {},
   "source": [
    "# ClearML Logging"
   ]
  },
  {
   "cell_type": "code",
   "execution_count": null,
   "metadata": {},
   "outputs": [],
   "source": [
    "CLEAR_ML_PROJECT_NAME = \"Artifact-ML demo\"\n",
    "\n",
    "\n",
    "clear_ml_client = ClearMLTrackingClient.build(experiment_id=CLEAR_ML_PROJECT_NAME)"
   ]
  },
  {
   "cell_type": "code",
   "execution_count": null,
   "metadata": {},
   "outputs": [],
   "source": [
    "plan = MyValidationPlan.build(resource_spec=class_spec, tracking_client=clear_ml_client)"
   ]
  },
  {
   "cell_type": "code",
   "execution_count": null,
   "metadata": {},
   "outputs": [],
   "source": [
    "plan.execute_classifier_evaluation(true=true, predicted=predicted, probs_pos=probs_pos)"
   ]
  },
  {
   "cell_type": "code",
   "execution_count": null,
   "metadata": {},
   "outputs": [],
   "source": [
    "clear_ml_client.run.stop()"
   ]
  },
  {
   "cell_type": "markdown",
   "metadata": {},
   "source": [
    "# Neptune Logging"
   ]
  },
  {
   "cell_type": "code",
   "execution_count": null,
   "metadata": {},
   "outputs": [],
   "source": [
    "NEPTUNE_PROJECT_NAME = \"h.papoulias/privacy-research-longitudinal\"\n",
    "\n",
    "neptune_client = NeptuneTrackingClient.build(experiment_id=NEPTUNE_PROJECT_NAME)"
   ]
  },
  {
   "cell_type": "code",
   "execution_count": null,
   "metadata": {},
   "outputs": [],
   "source": [
    "plan = MyValidationPlan.build(resource_spec=class_spec, tracking_client=neptune_client)"
   ]
  },
  {
   "cell_type": "code",
   "execution_count": null,
   "metadata": {},
   "outputs": [],
   "source": [
    "plan.execute_classifier_evaluation(true=true, predicted=predicted, probs_pos=probs_pos)"
   ]
  },
  {
   "cell_type": "code",
   "execution_count": null,
   "metadata": {},
   "outputs": [],
   "source": [
    "neptune_client.run.stop()"
   ]
  },
  {
   "cell_type": "markdown",
   "metadata": {},
   "source": [
    "# Mlflow Logging"
   ]
  },
  {
   "cell_type": "code",
   "execution_count": null,
   "metadata": {},
   "outputs": [],
   "source": [
    "MLFLOW_EXPERIMENT_ID = \"Artifact-ML demo\"\n",
    "\n",
    "mlflow_client = MlflowTrackingClient.build(experiment_id=MLFLOW_EXPERIMENT_ID)"
   ]
  },
  {
   "cell_type": "code",
   "execution_count": null,
   "metadata": {},
   "outputs": [],
   "source": [
    "plan = MyValidationPlan.build(resource_spec=class_spec, tracking_client=mlflow_client)"
   ]
  },
  {
   "cell_type": "code",
   "execution_count": null,
   "metadata": {},
   "outputs": [],
   "source": [
    "plan.execute_classifier_evaluation(true=true, predicted=predicted, probs_pos=probs_pos)"
   ]
  },
  {
   "cell_type": "code",
   "execution_count": null,
   "metadata": {},
   "outputs": [],
   "source": [
    "mlflow_client.run.stop()"
   ]
  }
 ],
 "metadata": {
  "kernelspec": {
   "display_name": ".venv",
   "language": "python",
   "name": "python3"
  },
  "language_info": {
   "codemirror_mode": {
    "name": "ipython",
    "version": 3
   },
   "file_extension": ".py",
   "mimetype": "text/x-python",
   "name": "python",
   "nbconvert_exporter": "python",
   "pygments_lexer": "ipython3",
   "version": "3.11.8"
  }
 },
 "nbformat": 4,
 "nbformat_minor": 2
}
