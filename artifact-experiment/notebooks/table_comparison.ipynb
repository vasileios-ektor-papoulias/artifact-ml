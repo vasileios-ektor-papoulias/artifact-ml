{
 "cells": [
  {
   "cell_type": "code",
   "execution_count": 1,
   "metadata": {},
   "outputs": [],
   "source": [
    "%matplotlib inline\n",
    "%load_ext autoreload\n",
    "%autoreload 2"
   ]
  },
  {
   "cell_type": "code",
   "execution_count": 2,
   "metadata": {},
   "outputs": [],
   "source": [
    "from pathlib import Path\n",
    "from typing import List\n",
    "\n",
    "import pandas as pd\n",
    "from artifact_core.libs.resource_spec.tabular.spec import TabularDataSpec\n",
    "from artifact_experiment.libs.tracking.filesystem.client import FilesystemTrackingClient\n",
    "from artifact_experiment.table_comparison.validation_plan import (\n",
    "    TableComparisonArrayCollectionType,\n",
    "    TableComparisonArrayType,\n",
    "    TableComparisonPlotCollectionType,\n",
    "    TableComparisonPlotType,\n",
    "    TableComparisonScoreCollectionType,\n",
    "    TableComparisonScoreType,\n",
    "    TableComparisonValidationPlan,\n",
    ")"
   ]
  },
  {
   "cell_type": "code",
   "execution_count": 3,
   "metadata": {},
   "outputs": [],
   "source": [
    "artifact_core_root = Path().absolute().parent\n",
    "\n",
    "df_real = pd.read_csv(artifact_core_root / \"assets/real.csv\")\n",
    "df_synthetic = pd.read_csv(artifact_core_root / \"assets/synthetic.csv\")"
   ]
  },
  {
   "cell_type": "code",
   "execution_count": 4,
   "metadata": {},
   "outputs": [],
   "source": [
    "ls_cts_features = [\"Age\", \"RestingBP\", \"Cholesterol\", \"MaxHR\", \"Oldpeak\"]\n",
    "\n",
    "resource_spec = TabularDataSpec.from_df(\n",
    "    df=df_real,\n",
    "    ls_cts_features=ls_cts_features,\n",
    "    ls_cat_features=[feature for feature in df_real.columns if feature not in ls_cts_features],\n",
    ")"
   ]
  },
  {
   "cell_type": "code",
   "execution_count": 5,
   "metadata": {},
   "outputs": [],
   "source": [
    "class MyValidationPlan(TableComparisonValidationPlan):\n",
    "    @staticmethod\n",
    "    def _get_score_types() -> List[TableComparisonScoreType]:\n",
    "        return [TableComparisonScoreType.MEAN_JS_DISTANCE]\n",
    "\n",
    "    @staticmethod\n",
    "    def _get_array_types() -> List[TableComparisonArrayType]:\n",
    "        return []\n",
    "\n",
    "    @staticmethod\n",
    "    def _get_plot_types() -> List[TableComparisonPlotType]:\n",
    "        return [\n",
    "            TableComparisonPlotType.PDF_PLOT,\n",
    "            TableComparisonPlotType.CDF_PLOT,\n",
    "            TableComparisonPlotType.DESCRIPTIVE_STATS_COMPARISON_PLOT,\n",
    "            TableComparisonPlotType.PCA_PROJECTION_PLOT,\n",
    "            TableComparisonPlotType.TSNE_PROJECTION_PLOT,\n",
    "        ]\n",
    "\n",
    "    @staticmethod\n",
    "    def _get_score_collection_types() -> List[TableComparisonScoreCollectionType]:\n",
    "        return [TableComparisonScoreCollectionType.JS_DISTANCE]\n",
    "\n",
    "    @staticmethod\n",
    "    def _get_array_collection_types() -> List[TableComparisonArrayCollectionType]:\n",
    "        return []\n",
    "\n",
    "    @staticmethod\n",
    "    def _get_plot_collection_types() -> List[TableComparisonPlotCollectionType]:\n",
    "        return []\n",
    "\n",
    "\n",
    "plan = MyValidationPlan.build(resource_spec=resource_spec)"
   ]
  },
  {
   "cell_type": "code",
   "execution_count": 6,
   "metadata": {},
   "outputs": [],
   "source": [
    "plan.execute(dataset_real=df_real, dataset_synthetic=df_synthetic)"
   ]
  },
  {
   "cell_type": "code",
   "execution_count": 7,
   "metadata": {},
   "outputs": [
    {
     "data": {
      "text/plain": [
       "{'MEAN_JS_DISTANCE': 0.059110809178533986}"
      ]
     },
     "execution_count": 7,
     "metadata": {},
     "output_type": "execute_result"
    }
   ],
   "source": [
    "plan.scores"
   ]
  },
  {
   "cell_type": "code",
   "execution_count": 8,
   "metadata": {},
   "outputs": [],
   "source": [
    "filesystem_tracker = FilesystemTrackingClient.build(experiment_id=\"demo\")"
   ]
  },
  {
   "cell_type": "code",
   "execution_count": 10,
   "metadata": {},
   "outputs": [
    {
     "data": {
      "text/plain": [
       "'C:\\\\Users\\\\hecto\\\\artifact_ml\\\\demo\\\\f4698a95-b273-4bb3-abbc-b8e27ba8052d'"
      ]
     },
     "execution_count": 10,
     "metadata": {},
     "output_type": "execute_result"
    }
   ],
   "source": [
    "filesystem_tracker.run_dir"
   ]
  },
  {
   "cell_type": "code",
   "execution_count": 12,
   "metadata": {},
   "outputs": [],
   "source": [
    "plan = MyValidationPlan.build(resource_spec=resource_spec, tracking_client=filesystem_tracker)\n",
    "\n",
    "plan.execute(dataset_real=df_real, dataset_synthetic=df_synthetic)"
   ]
  }
 ],
 "metadata": {
  "kernelspec": {
   "display_name": ".venv",
   "language": "python",
   "name": "python3"
  },
  "language_info": {
   "codemirror_mode": {
    "name": "ipython",
    "version": 3
   },
   "file_extension": ".py",
   "mimetype": "text/x-python",
   "name": "python",
   "nbconvert_exporter": "python",
   "pygments_lexer": "ipython3",
   "version": "3.11.8"
  }
 },
 "nbformat": 4,
 "nbformat_minor": 2
}
