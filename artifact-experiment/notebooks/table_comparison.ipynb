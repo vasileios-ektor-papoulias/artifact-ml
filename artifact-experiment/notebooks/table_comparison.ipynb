{
 "cells": [
  {
   "cell_type": "code",
   "execution_count": null,
   "metadata": {},
   "outputs": [],
   "source": [
    "%matplotlib inline\n",
    "%load_ext autoreload\n",
    "%autoreload 2"
   ]
  },
  {
   "cell_type": "code",
   "execution_count": null,
   "metadata": {},
   "outputs": [],
   "source": [
    "from pathlib import Path\n",
    "from typing import List\n",
    "\n",
    "import pandas as pd\n",
    "from artifact_core.libs.resource_spec.tabular.spec import TabularDataSpec\n",
    "from artifact_experiment.libs.tracking.clear_ml.client import ClearMLTrackingClient\n",
    "from artifact_experiment.libs.tracking.filesystem.client import FilesystemTrackingClient\n",
    "from artifact_experiment.libs.tracking.mlflow.client import MlflowTrackingClient\n",
    "from artifact_experiment.libs.tracking.neptune.client import NeptuneTrackingClient\n",
    "from artifact_experiment.table_comparison.validation_plan import (\n",
    "    TableComparisonArrayCollectionType,\n",
    "    TableComparisonArrayType,\n",
    "    TableComparisonPlotCollectionType,\n",
    "    TableComparisonPlotType,\n",
    "    TableComparisonScoreCollectionType,\n",
    "    TableComparisonScoreType,\n",
    "    TableComparisonValidationPlan,\n",
    ")"
   ]
  },
  {
   "cell_type": "markdown",
   "metadata": {},
   "source": [
    "# Source"
   ]
  },
  {
   "cell_type": "code",
   "execution_count": null,
   "metadata": {},
   "outputs": [],
   "source": [
    "artifact_core_root = Path().absolute().parent\n",
    "\n",
    "df_real = pd.read_csv(artifact_core_root / \"assets/real.csv\")\n",
    "df_synthetic = pd.read_csv(artifact_core_root / \"assets/synthetic.csv\")"
   ]
  },
  {
   "cell_type": "code",
   "execution_count": null,
   "metadata": {},
   "outputs": [],
   "source": [
    "ls_cts_features = [\"Age\", \"RestingBP\", \"Cholesterol\", \"MaxHR\", \"Oldpeak\"]\n",
    "\n",
    "resource_spec = TabularDataSpec.from_df(\n",
    "    df=df_real,\n",
    "    ls_cts_features=ls_cts_features,\n",
    "    ls_cat_features=[feature for feature in df_real.columns if feature not in ls_cts_features],\n",
    ")"
   ]
  },
  {
   "cell_type": "markdown",
   "metadata": {},
   "source": [
    "# Validation Plan"
   ]
  },
  {
   "cell_type": "code",
   "execution_count": null,
   "metadata": {},
   "outputs": [],
   "source": [
    "class MyValidationPlan(TableComparisonValidationPlan):\n",
    "    @staticmethod\n",
    "    def _get_score_types() -> List[TableComparisonScoreType]:\n",
    "        return [TableComparisonScoreType.MEAN_JS_DISTANCE]\n",
    "\n",
    "    @staticmethod\n",
    "    def _get_array_types() -> List[TableComparisonArrayType]:\n",
    "        return []\n",
    "\n",
    "    @staticmethod\n",
    "    def _get_plot_types() -> List[TableComparisonPlotType]:\n",
    "        return [\n",
    "            TableComparisonPlotType.PDF_PLOT,\n",
    "            TableComparisonPlotType.CDF_PLOT,\n",
    "            TableComparisonPlotType.DESCRIPTIVE_STATS_COMPARISON_PLOT,\n",
    "            TableComparisonPlotType.PCA_PROJECTION_PLOT,\n",
    "            TableComparisonPlotType.TSNE_PROJECTION_PLOT,\n",
    "        ]\n",
    "\n",
    "    @staticmethod\n",
    "    def _get_score_collection_types() -> List[TableComparisonScoreCollectionType]:\n",
    "        return [TableComparisonScoreCollectionType.JS_DISTANCE]\n",
    "\n",
    "    @staticmethod\n",
    "    def _get_array_collection_types() -> List[TableComparisonArrayCollectionType]:\n",
    "        return [\n",
    "            TableComparisonArrayCollectionType.MINIMA,\n",
    "            TableComparisonArrayCollectionType.MAXIMA,\n",
    "            TableComparisonArrayCollectionType.MEANS,\n",
    "            TableComparisonArrayCollectionType.STDS,\n",
    "        ]\n",
    "\n",
    "    @staticmethod\n",
    "    def _get_plot_collection_types() -> List[TableComparisonPlotCollectionType]:\n",
    "        return [\n",
    "            TableComparisonPlotCollectionType.PDF_PLOTS,\n",
    "            TableComparisonPlotCollectionType.CDF_PLOTS,\n",
    "        ]\n",
    "\n",
    "\n",
    "plan = MyValidationPlan.build(resource_spec=resource_spec)"
   ]
  },
  {
   "cell_type": "code",
   "execution_count": null,
   "metadata": {},
   "outputs": [],
   "source": [
    "plan.execute_table_comparison(dataset_real=df_real, dataset_synthetic=df_synthetic)"
   ]
  },
  {
   "cell_type": "markdown",
   "metadata": {},
   "source": [
    "# Filesystem Logging"
   ]
  },
  {
   "cell_type": "code",
   "execution_count": null,
   "metadata": {},
   "outputs": [],
   "source": [
    "filesystem_tracker = FilesystemTrackingClient.build(experiment_id=\"demo\")"
   ]
  },
  {
   "cell_type": "code",
   "execution_count": null,
   "metadata": {},
   "outputs": [],
   "source": [
    "filesystem_tracker.run_dir"
   ]
  },
  {
   "cell_type": "code",
   "execution_count": null,
   "metadata": {},
   "outputs": [],
   "source": [
    "plan = MyValidationPlan.build(resource_spec=resource_spec, tracking_client=filesystem_tracker)"
   ]
  },
  {
   "cell_type": "code",
   "execution_count": null,
   "metadata": {},
   "outputs": [],
   "source": [
    "plan.execute_table_comparison(dataset_real=df_real, dataset_synthetic=df_synthetic)"
   ]
  },
  {
   "cell_type": "code",
   "execution_count": null,
   "metadata": {},
   "outputs": [],
   "source": [
    "filesystem_tracker.run.stop()"
   ]
  },
  {
   "cell_type": "markdown",
   "metadata": {},
   "source": [
    "# ClearML Logging"
   ]
  },
  {
   "cell_type": "code",
   "execution_count": null,
   "metadata": {},
   "outputs": [],
   "source": [
    "CLEAR_ML_PROJECT_NAME = \"Artifact-ML demo\"\n",
    "\n",
    "\n",
    "clear_ml_client = ClearMLTrackingClient.build(experiment_id=CLEAR_ML_PROJECT_NAME)"
   ]
  },
  {
   "cell_type": "code",
   "execution_count": null,
   "metadata": {},
   "outputs": [],
   "source": [
    "plan = MyValidationPlan.build(resource_spec=resource_spec, tracking_client=clear_ml_client)"
   ]
  },
  {
   "cell_type": "code",
   "execution_count": null,
   "metadata": {},
   "outputs": [],
   "source": [
    "plan.execute_table_comparison(dataset_real=df_real, dataset_synthetic=df_synthetic)"
   ]
  },
  {
   "cell_type": "code",
   "execution_count": null,
   "metadata": {},
   "outputs": [],
   "source": [
    "clear_ml_client.run.stop()"
   ]
  },
  {
   "cell_type": "markdown",
   "metadata": {},
   "source": [
    "# Neptune Logging"
   ]
  },
  {
   "cell_type": "code",
   "execution_count": null,
   "metadata": {},
   "outputs": [],
   "source": [
    "NEPTUNE_PROJECT_NAME = \"Artifact-ML demo\"\n",
    "\n",
    "neptune_client = NeptuneTrackingClient.build(experiment_id=NEPTUNE_PROJECT_NAME)"
   ]
  },
  {
   "cell_type": "code",
   "execution_count": null,
   "metadata": {},
   "outputs": [],
   "source": [
    "plan = MyValidationPlan.build(resource_spec=resource_spec, tracking_client=neptune_client)"
   ]
  },
  {
   "cell_type": "code",
   "execution_count": null,
   "metadata": {},
   "outputs": [],
   "source": [
    "plan.execute_table_comparison(dataset_real=df_real, dataset_synthetic=df_synthetic)"
   ]
  },
  {
   "cell_type": "code",
   "execution_count": null,
   "metadata": {},
   "outputs": [],
   "source": [
    "neptune_client.run.stop()"
   ]
  },
  {
   "cell_type": "markdown",
   "metadata": {},
   "source": [
    "# MLFlow Logging"
   ]
  },
  {
   "cell_type": "code",
   "execution_count": null,
   "metadata": {},
   "outputs": [],
   "source": [
    "MLFLOW_EXPERIMENT_NAME = \"Artifact-ML demo\"\n",
    "\n",
    "experiment_id = MlflowTrackingClient.create_experiment(experiment_name=MLFLOW_EXPERIMENT_NAME)\n",
    "\n",
    "mlflow_client = MlflowTrackingClient.build(experiment_id=experiment_id)"
   ]
  },
  {
   "cell_type": "code",
   "execution_count": null,
   "metadata": {},
   "outputs": [],
   "source": [
    "plan = MyValidationPlan.build(resource_spec=resource_spec, tracking_client=mlflow_client)"
   ]
  },
  {
   "cell_type": "code",
   "execution_count": null,
   "metadata": {},
   "outputs": [],
   "source": [
    "plan.execute_table_comparison(dataset_real=df_real, dataset_synthetic=df_synthetic)"
   ]
  },
  {
   "cell_type": "code",
   "execution_count": null,
   "metadata": {},
   "outputs": [],
   "source": [
    "mlflow_client.run.stop()"
   ]
  }
 ],
 "metadata": {
  "kernelspec": {
   "display_name": ".venv",
   "language": "python",
   "name": "python3"
  },
  "language_info": {
   "codemirror_mode": {
    "name": "ipython",
    "version": 3
   },
   "file_extension": ".py",
   "mimetype": "text/x-python",
   "name": "python",
   "nbconvert_exporter": "python",
   "pygments_lexer": "ipython3",
   "version": "3.11.8"
  }
 },
 "nbformat": 4,
 "nbformat_minor": 2
}
