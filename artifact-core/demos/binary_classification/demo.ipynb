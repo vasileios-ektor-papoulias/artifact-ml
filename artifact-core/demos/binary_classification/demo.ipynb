{
 "cells": [
  {
   "cell_type": "markdown",
   "metadata": {},
   "source": [
    "# Demo: Binary Classification Engine\n",
    "\n",
    "This notebook demonstrates how to use the binary classification engine from the core library of Artifact-ML to evaluate a binary classification experiment.\n",
    "\n",
    "We'll walk through:\n",
    "\n",
    "1. Loading the classification results\n",
    "2. Setting up the validation engine\n",
    "3. Computing various validation artifacts"
   ]
  },
  {
   "cell_type": "markdown",
   "metadata": {},
   "source": [
    "## Setup\n",
    "\n",
    "First, we'll set up our environment and import the necessary libraries."
   ]
  },
  {
   "cell_type": "code",
   "execution_count": null,
   "metadata": {},
   "outputs": [],
   "source": [
    "%matplotlib inline\n",
    "%load_ext autoreload\n",
    "%autoreload 2"
   ]
  },
  {
   "cell_type": "code",
   "execution_count": null,
   "metadata": {},
   "outputs": [],
   "source": [
    "from pathlib import Path\n",
    "\n",
    "import pandas as pd\n",
    "from artifact_core.binary_classification import (\n",
    "    BinaryClassificationArrayCollectionType,\n",
    "    BinaryClassificationArrayType,\n",
    "    BinaryClassificationEngine,\n",
    "    BinaryClassificationPlotCollectionType,\n",
    "    BinaryClassificationPlotType,\n",
    "    BinaryClassificationScoreCollectionType,\n",
    "    BinaryClassificationScoreType,\n",
    "    BinaryFeatureSpec,\n",
    ")\n",
    "from scipy.special import logit as logt_fn"
   ]
  },
  {
   "cell_type": "markdown",
   "metadata": {},
   "source": [
    "## Loading the Data\n",
    "\n",
    "We'll load the classification results from a file."
   ]
  },
  {
   "cell_type": "code",
   "execution_count": null,
   "metadata": {},
   "outputs": [],
   "source": [
    "artifact_core_root = Path().absolute().parent.parent\n",
    "\n",
    "df_classification_results = pd.read_csv(artifact_core_root / \"assets/binary_classification.csv\")"
   ]
  },
  {
   "cell_type": "markdown",
   "metadata": {},
   "source": [
    "Let's examine the classification results to understand their structure and content:"
   ]
  },
  {
   "cell_type": "code",
   "execution_count": null,
   "metadata": {},
   "outputs": [],
   "source": [
    "df_classification_results"
   ]
  },
  {
   "cell_type": "markdown",
   "metadata": {},
   "source": [
    "Let's parse the results to extract quantities required for evaluation:"
   ]
  },
  {
   "cell_type": "code",
   "execution_count": null,
   "metadata": {},
   "outputs": [],
   "source": [
    "true = df_classification_results[\"arthritis_true\"].to_dict()\n",
    "predicted = df_classification_results[\"arthritis_pred\"].to_dict()\n",
    "probs_pos = df_classification_results[\"arthritis_prob_est\"].to_dict()\n",
    "logits = df_classification_results[\"arthritis_prob_est\"].apply(logt_fn).to_dict()"
   ]
  },
  {
   "cell_type": "markdown",
   "metadata": {},
   "source": [
    "## Resource Specification Setup\n",
    "\n",
    "Before we can evaluate the results, we need to specify labelling metadata.\n",
    "\n",
    "This information helps the binary classification comparison engine interpret the classification results appropriately."
   ]
  },
  {
   "cell_type": "code",
   "execution_count": null,
   "metadata": {},
   "outputs": [],
   "source": [
    "class_spec = BinaryFeatureSpec(ls_categories=[\"0\", \"1\"], positive_category=\"1\")\n",
    "\n",
    "class_spec"
   ]
  },
  {
   "cell_type": "markdown",
   "metadata": {},
   "source": [
    "## Initializing the Validation Engine\n",
    "\n",
    "Now we'll initialize the BinaryClassificationEngine with our resource specification.\n",
    "\n",
    "This engine will handle all tasks related to classification result evaluation."
   ]
  },
  {
   "cell_type": "code",
   "execution_count": null,
   "metadata": {},
   "outputs": [],
   "source": [
    "engine = BinaryClassificationEngine(resource_spec=class_spec)"
   ]
  },
  {
   "cell_type": "markdown",
   "metadata": {},
   "source": [
    "## Computing Validation Artifacts\n",
    "\n",
    "Let’s use the engine to explore a range of validation artifacts that capture the quality of the classification results."
   ]
  },
  {
   "cell_type": "code",
   "execution_count": null,
   "metadata": {},
   "outputs": [],
   "source": [
    "engine.produce_classification_score(\n",
    "    score_type=BinaryClassificationScoreType.ACCURACY,\n",
    "    true=true,\n",
    "    predicted=predicted,\n",
    "    probs_pos=probs_pos,\n",
    ")"
   ]
  },
  {
   "cell_type": "code",
   "execution_count": null,
   "metadata": {},
   "outputs": [],
   "source": [
    "engine.produce_classification_score(\n",
    "    score_type=BinaryClassificationScoreType.PRECISION,\n",
    "    true=true,\n",
    "    predicted=predicted,\n",
    "    probs_pos=probs_pos,\n",
    ")"
   ]
  },
  {
   "cell_type": "code",
   "execution_count": null,
   "metadata": {},
   "outputs": [],
   "source": [
    "engine.produce_classification_score(\n",
    "    score_type=BinaryClassificationScoreType.RECALL,\n",
    "    true=true,\n",
    "    predicted=predicted,\n",
    "    probs_pos=probs_pos,\n",
    ")"
   ]
  },
  {
   "cell_type": "code",
   "execution_count": null,
   "metadata": {},
   "outputs": [],
   "source": [
    "engine.produce_classification_score(\n",
    "    score_type=BinaryClassificationScoreType.FNR,\n",
    "    true=true,\n",
    "    predicted=predicted,\n",
    "    probs_pos=probs_pos,\n",
    ")"
   ]
  },
  {
   "cell_type": "code",
   "execution_count": null,
   "metadata": {},
   "outputs": [],
   "source": [
    "engine.produce_classification_score(\n",
    "    score_type=BinaryClassificationScoreType.FPR,\n",
    "    true=true,\n",
    "    predicted=predicted,\n",
    "    probs_pos=probs_pos,\n",
    ")"
   ]
  },
  {
   "cell_type": "code",
   "execution_count": null,
   "metadata": {},
   "outputs": [],
   "source": [
    "engine.produce_classification_score(\n",
    "    score_type=BinaryClassificationScoreType.TNR,\n",
    "    true=true,\n",
    "    predicted=predicted,\n",
    "    probs_pos=probs_pos,\n",
    ")"
   ]
  },
  {
   "cell_type": "code",
   "execution_count": null,
   "metadata": {},
   "outputs": [],
   "source": [
    "engine.produce_classification_score(\n",
    "    score_type=BinaryClassificationScoreType.MCC,\n",
    "    true=true,\n",
    "    predicted=predicted,\n",
    "    probs_pos=probs_pos,\n",
    ")"
   ]
  },
  {
   "cell_type": "code",
   "execution_count": null,
   "metadata": {},
   "outputs": [],
   "source": [
    "engine.produce_classification_score(\n",
    "    score_type=BinaryClassificationScoreType.GROUND_TRUTH_PROB_MEAN,\n",
    "    true=true,\n",
    "    predicted=predicted,\n",
    "    probs_pos=probs_pos,\n",
    ")"
   ]
  },
  {
   "cell_type": "code",
   "execution_count": null,
   "metadata": {},
   "outputs": [],
   "source": [
    "engine.produce_classification_score_collection(\n",
    "    score_collection_type=BinaryClassificationScoreCollectionType.GROUND_TRUTH_PROB_STATS,\n",
    "    true=true,\n",
    "    predicted=predicted,\n",
    "    probs_pos=probs_pos,\n",
    ")"
   ]
  },
  {
   "cell_type": "code",
   "execution_count": null,
   "metadata": {},
   "outputs": [],
   "source": [
    "engine.produce_classification_score_collection(\n",
    "    score_collection_type=BinaryClassificationScoreCollectionType.BINARY_PREDICTION_SCORES,\n",
    "    true=true,\n",
    "    predicted=predicted,\n",
    "    probs_pos=probs_pos,\n",
    ")"
   ]
  },
  {
   "cell_type": "code",
   "execution_count": null,
   "metadata": {},
   "outputs": [],
   "source": [
    "engine.produce_classification_score(\n",
    "    score_type=BinaryClassificationScoreType.ROC_AUC,\n",
    "    true=true,\n",
    "    predicted=predicted,\n",
    "    probs_pos=probs_pos,\n",
    ")"
   ]
  },
  {
   "cell_type": "code",
   "execution_count": null,
   "metadata": {},
   "outputs": [],
   "source": [
    "engine.produce_classification_score(\n",
    "    score_type=BinaryClassificationScoreType.PR_AUC,\n",
    "    true=true,\n",
    "    predicted=predicted,\n",
    "    probs_pos=probs_pos,\n",
    ")"
   ]
  },
  {
   "cell_type": "code",
   "execution_count": null,
   "metadata": {},
   "outputs": [],
   "source": [
    "engine.produce_classification_score_collection(\n",
    "    score_collection_type=BinaryClassificationScoreCollectionType.THRESHOLD_VARIATION_SCORES,\n",
    "    true=true,\n",
    "    predicted=predicted,\n",
    "    probs_pos=probs_pos,\n",
    ")"
   ]
  },
  {
   "cell_type": "code",
   "execution_count": null,
   "metadata": {},
   "outputs": [],
   "source": [
    "engine.produce_classification_score_collection(\n",
    "    score_collection_type=BinaryClassificationScoreCollectionType.NORMALIZED_CONFUSION_COUNTS,\n",
    "    true=true,\n",
    "    predicted=predicted,\n",
    "    probs_pos=probs_pos,\n",
    ")"
   ]
  },
  {
   "cell_type": "code",
   "execution_count": null,
   "metadata": {},
   "outputs": [],
   "source": [
    "engine.produce_classification_score_collection(\n",
    "    score_collection_type=BinaryClassificationScoreCollectionType.SCORE_MEANS,\n",
    "    true=true,\n",
    "    predicted=predicted,\n",
    "    probs_pos=probs_pos,\n",
    ")"
   ]
  },
  {
   "cell_type": "code",
   "execution_count": null,
   "metadata": {},
   "outputs": [],
   "source": [
    "engine.produce_classification_score_collection(\n",
    "    score_collection_type=BinaryClassificationScoreCollectionType.POSITIVE_CLASS_SCORE_STATS,\n",
    "    true=true,\n",
    "    predicted=predicted,\n",
    "    probs_pos=probs_pos,\n",
    ")"
   ]
  },
  {
   "cell_type": "code",
   "execution_count": null,
   "metadata": {},
   "outputs": [],
   "source": [
    "engine.produce_classification_array(\n",
    "    array_type=BinaryClassificationArrayType.CONFUSION_MATRIX,\n",
    "    true=true,\n",
    "    predicted=predicted,\n",
    "    probs_pos=probs_pos,\n",
    ")"
   ]
  },
  {
   "cell_type": "code",
   "execution_count": null,
   "metadata": {},
   "outputs": [],
   "source": [
    "engine.produce_classification_array_collection(\n",
    "    array_collection_type=BinaryClassificationArrayCollectionType.CONFUSION_MATRICES,\n",
    "    true=true,\n",
    "    predicted=predicted,\n",
    "    probs_pos=probs_pos,\n",
    ")"
   ]
  },
  {
   "cell_type": "code",
   "execution_count": null,
   "metadata": {},
   "outputs": [],
   "source": [
    "engine.produce_classification_plot(\n",
    "    plot_type=BinaryClassificationPlotType.CONFUSION_MATRIX_PLOT,\n",
    "    true=true,\n",
    "    predicted=predicted,\n",
    "    probs_pos=probs_pos,\n",
    ")"
   ]
  },
  {
   "cell_type": "code",
   "execution_count": null,
   "metadata": {},
   "outputs": [],
   "source": [
    "dict_plots = engine.produce_classification_plot_collection(\n",
    "    plot_collection_type=BinaryClassificationPlotCollectionType.CONFUSION_MATRIX_PLOTS,\n",
    "    true=true,\n",
    "    predicted=predicted,\n",
    "    probs_pos=probs_pos,\n",
    ")\n",
    "\n",
    "print(dict_plots)\n",
    "\n",
    "dict_plots[\"TRUE\"]"
   ]
  },
  {
   "cell_type": "code",
   "execution_count": null,
   "metadata": {},
   "outputs": [],
   "source": [
    "engine.produce_classification_plot(\n",
    "    plot_type=BinaryClassificationPlotType.ROC_CURVE,\n",
    "    true=true,\n",
    "    predicted=predicted,\n",
    "    probs_pos=probs_pos,\n",
    ")"
   ]
  },
  {
   "cell_type": "code",
   "execution_count": null,
   "metadata": {},
   "outputs": [],
   "source": [
    "engine.produce_classification_plot(\n",
    "    plot_type=BinaryClassificationPlotType.PR_CURVE,\n",
    "    true=true,\n",
    "    predicted=predicted,\n",
    "    probs_pos=probs_pos,\n",
    ")"
   ]
  },
  {
   "cell_type": "code",
   "execution_count": null,
   "metadata": {},
   "outputs": [],
   "source": [
    "engine.produce_classification_plot(\n",
    "    plot_type=BinaryClassificationPlotType.DET_CURVE,\n",
    "    true=true,\n",
    "    predicted=predicted,\n",
    "    probs_pos=probs_pos,\n",
    ")"
   ]
  },
  {
   "cell_type": "code",
   "execution_count": null,
   "metadata": {},
   "outputs": [],
   "source": [
    "engine.produce_classification_plot(\n",
    "    plot_type=BinaryClassificationPlotType.RECALL_THRESHOLD_CURVE,\n",
    "    true=true,\n",
    "    predicted=predicted,\n",
    "    probs_pos=probs_pos,\n",
    ")"
   ]
  },
  {
   "cell_type": "code",
   "execution_count": null,
   "metadata": {},
   "outputs": [],
   "source": [
    "engine.produce_classification_plot(\n",
    "    plot_type=BinaryClassificationPlotType.PRECISION_THRESHOLD_CURVE,\n",
    "    true=true,\n",
    "    predicted=predicted,\n",
    "    probs_pos=probs_pos,\n",
    ")"
   ]
  },
  {
   "cell_type": "code",
   "execution_count": null,
   "metadata": {},
   "outputs": [],
   "source": [
    "dict_plots = engine.produce_classification_plot_collection(\n",
    "    plot_collection_type=BinaryClassificationPlotCollectionType.THRESHOLD_VARIATION_CURVES,\n",
    "    true=true,\n",
    "    predicted=predicted,\n",
    "    probs_pos=probs_pos,\n",
    ")\n",
    "\n",
    "print(dict_plots)"
   ]
  },
  {
   "cell_type": "code",
   "execution_count": null,
   "metadata": {},
   "outputs": [],
   "source": [
    "dict_plots[\"roc\"]"
   ]
  },
  {
   "cell_type": "code",
   "execution_count": null,
   "metadata": {},
   "outputs": [],
   "source": [
    "engine.produce_classification_plot(\n",
    "    plot_type=BinaryClassificationPlotType.SCORE_PDF,\n",
    "    true=true,\n",
    "    predicted=predicted,\n",
    "    probs_pos=probs_pos,\n",
    ")"
   ]
  },
  {
   "cell_type": "code",
   "execution_count": null,
   "metadata": {},
   "outputs": [],
   "source": [
    "dict_plots = engine.produce_classification_plot_collection(\n",
    "    plot_collection_type=BinaryClassificationPlotCollectionType.SCORE_PDF_PLOTS,\n",
    "    true=true,\n",
    "    predicted=predicted,\n",
    "    probs_pos=probs_pos,\n",
    ")\n",
    "\n",
    "print(dict_plots)"
   ]
  },
  {
   "cell_type": "code",
   "execution_count": null,
   "metadata": {},
   "outputs": [],
   "source": [
    "dict_plots[\"NEGATIVE\"]"
   ]
  },
  {
   "cell_type": "code",
   "execution_count": null,
   "metadata": {},
   "outputs": [],
   "source": [
    "engine.produce_classification_plot(\n",
    "    plot_type=BinaryClassificationPlotType.GROUND_TRUTH_PROB_PDF,\n",
    "    true=true,\n",
    "    predicted=predicted,\n",
    "    probs_pos=probs_pos,\n",
    ")"
   ]
  }
 ],
 "metadata": {
  "kernelspec": {
   "display_name": ".venv",
   "language": "python",
   "name": "python3"
  },
  "language_info": {
   "codemirror_mode": {
    "name": "ipython",
    "version": 3
   },
   "file_extension": ".py",
   "mimetype": "text/x-python",
   "name": "python",
   "nbconvert_exporter": "python",
   "pygments_lexer": "ipython3",
   "version": "3.11.8"
  }
 },
 "nbformat": 4,
 "nbformat_minor": 2
}
