{
 "cells": [
  {
   "cell_type": "code",
   "execution_count": 1,
   "metadata": {},
   "outputs": [
    {
     "name": "stdout",
     "output_type": "stream",
     "text": [
      "CSV file 'arthritis_data.csv' generated with 200 samples.\n"
     ]
    },
    {
     "data": {
      "text/html": [
       "<div>\n",
       "<style scoped>\n",
       "    .dataframe tbody tr th:only-of-type {\n",
       "        vertical-align: middle;\n",
       "    }\n",
       "\n",
       "    .dataframe tbody tr th {\n",
       "        vertical-align: top;\n",
       "    }\n",
       "\n",
       "    .dataframe thead th {\n",
       "        text-align: right;\n",
       "    }\n",
       "</style>\n",
       "<table border=\"1\" class=\"dataframe\">\n",
       "  <thead>\n",
       "    <tr style=\"text-align: right;\">\n",
       "      <th></th>\n",
       "      <th>weight</th>\n",
       "      <th>height</th>\n",
       "      <th>age</th>\n",
       "      <th>arthritis_true</th>\n",
       "      <th>arthritis_pred</th>\n",
       "    </tr>\n",
       "  </thead>\n",
       "  <tbody>\n",
       "    <tr>\n",
       "      <th>0</th>\n",
       "      <td>73.1</td>\n",
       "      <td>182.1</td>\n",
       "      <td>60</td>\n",
       "      <td>1</td>\n",
       "      <td>1</td>\n",
       "    </tr>\n",
       "    <tr>\n",
       "      <th>1</th>\n",
       "      <td>116.3</td>\n",
       "      <td>154.2</td>\n",
       "      <td>49</td>\n",
       "      <td>1</td>\n",
       "      <td>1</td>\n",
       "    </tr>\n",
       "    <tr>\n",
       "      <th>2</th>\n",
       "      <td>99.9</td>\n",
       "      <td>158.1</td>\n",
       "      <td>36</td>\n",
       "      <td>0</td>\n",
       "      <td>0</td>\n",
       "    </tr>\n",
       "    <tr>\n",
       "      <th>3</th>\n",
       "      <td>89.9</td>\n",
       "      <td>194.9</td>\n",
       "      <td>68</td>\n",
       "      <td>0</td>\n",
       "      <td>0</td>\n",
       "    </tr>\n",
       "    <tr>\n",
       "      <th>4</th>\n",
       "      <td>56.7</td>\n",
       "      <td>180.3</td>\n",
       "      <td>39</td>\n",
       "      <td>1</td>\n",
       "      <td>1</td>\n",
       "    </tr>\n",
       "    <tr>\n",
       "      <th>...</th>\n",
       "      <td>...</td>\n",
       "      <td>...</td>\n",
       "      <td>...</td>\n",
       "      <td>...</td>\n",
       "      <td>...</td>\n",
       "    </tr>\n",
       "    <tr>\n",
       "      <th>195</th>\n",
       "      <td>71.2</td>\n",
       "      <td>196.5</td>\n",
       "      <td>48</td>\n",
       "      <td>0</td>\n",
       "      <td>0</td>\n",
       "    </tr>\n",
       "    <tr>\n",
       "      <th>196</th>\n",
       "      <td>99.4</td>\n",
       "      <td>192.9</td>\n",
       "      <td>32</td>\n",
       "      <td>0</td>\n",
       "      <td>0</td>\n",
       "    </tr>\n",
       "    <tr>\n",
       "      <th>197</th>\n",
       "      <td>112.3</td>\n",
       "      <td>171.4</td>\n",
       "      <td>65</td>\n",
       "      <td>1</td>\n",
       "      <td>0</td>\n",
       "    </tr>\n",
       "    <tr>\n",
       "      <th>198</th>\n",
       "      <td>111.5</td>\n",
       "      <td>187.5</td>\n",
       "      <td>54</td>\n",
       "      <td>0</td>\n",
       "      <td>1</td>\n",
       "    </tr>\n",
       "    <tr>\n",
       "      <th>199</th>\n",
       "      <td>103.5</td>\n",
       "      <td>187.7</td>\n",
       "      <td>25</td>\n",
       "      <td>0</td>\n",
       "      <td>0</td>\n",
       "    </tr>\n",
       "  </tbody>\n",
       "</table>\n",
       "<p>200 rows × 5 columns</p>\n",
       "</div>"
      ],
      "text/plain": [
       "     weight  height  age  arthritis_true  arthritis_pred\n",
       "0      73.1   182.1   60               1               1\n",
       "1     116.3   154.2   49               1               1\n",
       "2      99.9   158.1   36               0               0\n",
       "3      89.9   194.9   68               0               0\n",
       "4      56.7   180.3   39               1               1\n",
       "..      ...     ...  ...             ...             ...\n",
       "195    71.2   196.5   48               0               0\n",
       "196    99.4   192.9   32               0               0\n",
       "197   112.3   171.4   65               1               0\n",
       "198   111.5   187.5   54               0               1\n",
       "199   103.5   187.7   25               0               0\n",
       "\n",
       "[200 rows x 5 columns]"
      ]
     },
     "execution_count": 1,
     "metadata": {},
     "output_type": "execute_result"
    }
   ],
   "source": [
    "import numpy as np\n",
    "import pandas as pd\n",
    "\n",
    "\n",
    "def generate_data(num_samples=100, output_file=\"arthritis_data.csv\"):\n",
    "    np.random.seed(42)  # for reproducibility\n",
    "\n",
    "    # Generate random features\n",
    "    weight = np.round(np.random.uniform(45, 120, num_samples), 1)  # kg\n",
    "    height = np.round(np.random.uniform(150, 200, num_samples), 1)  # cm\n",
    "    age = np.random.randint(20, 80, num_samples)  # years\n",
    "\n",
    "    # True arthritis label (probability increases with age)\n",
    "    arthritis_prob = (age - 20) / 100\n",
    "    arthritis_true = np.random.binomial(1, arthritis_prob)\n",
    "\n",
    "    # Predicted arthritis label (simulate classifier with ~80% accuracy)\n",
    "    arthritis_pred = []\n",
    "    for true_label in arthritis_true:\n",
    "        if np.random.rand() < 0.8:  # 80% chance prediction = truth\n",
    "            arthritis_pred.append(true_label)\n",
    "        else:\n",
    "            arthritis_pred.append(1 - true_label)\n",
    "\n",
    "    # Create DataFrame\n",
    "    df = pd.DataFrame(\n",
    "        {\n",
    "            \"weight\": weight,\n",
    "            \"height\": height,\n",
    "            \"age\": age,\n",
    "            \"arthritis_true\": arthritis_true,\n",
    "            \"arthritis_pred\": arthritis_pred,\n",
    "        }\n",
    "    )\n",
    "\n",
    "    # Save to CSV\n",
    "    df.to_csv(output_file, index=False)\n",
    "    print(f\"CSV file '{output_file}' generated with {num_samples} samples.\")\n",
    "    return df\n",
    "\n",
    "\n",
    "# Example usage\n",
    "df = generate_data(200)  # generates 200 rows\n",
    "\n",
    "\n",
    "df"
   ]
  },
  {
   "cell_type": "code",
   "execution_count": 3,
   "metadata": {},
   "outputs": [],
   "source": [
    "from artifact_core.binary_classification import (\n",
    "    BinaryClassificationEngine,\n",
    "    BinaryClassificationScoreType,\n",
    "    BinaryFeatureSpec,\n",
    ")\n",
    "\n",
    "class_spec = BinaryFeatureSpec(ls_categories=[\"0\", \"1\"], positive_category=\"1\")\n",
    "true = df[\"arthritis_true\"].to_dict()\n",
    "predicted = df[\"arthritis_pred\"].to_dict()\n",
    "engine = BinaryClassificationEngine(resource_spec=class_spec)\n"
   ]
  },
  {
   "cell_type": "code",
   "execution_count": 4,
   "metadata": {},
   "outputs": [
    {
     "data": {
      "text/plain": [
       "0.805"
      ]
     },
     "execution_count": 4,
     "metadata": {},
     "output_type": "execute_result"
    }
   ],
   "source": [
    "engine.produce_classification_score(\n",
    "    score_type=BinaryClassificationScoreType.ACCURACY, true=true, predicted=predicted\n",
    ")"
   ]
  },
  {
   "cell_type": "code",
   "execution_count": 5,
   "metadata": {},
   "outputs": [
    {
     "data": {
      "text/plain": [
       "0.5588235294117647"
      ]
     },
     "execution_count": 5,
     "metadata": {},
     "output_type": "execute_result"
    }
   ],
   "source": [
    "engine.produce_classification_score(\n",
    "    score_type=BinaryClassificationScoreType.PRECISION, true=true, predicted=predicted\n",
    ")"
   ]
  },
  {
   "cell_type": "code",
   "execution_count": 6,
   "metadata": {},
   "outputs": [
    {
     "data": {
      "text/plain": [
       "0.8085106382978723"
      ]
     },
     "execution_count": 6,
     "metadata": {},
     "output_type": "execute_result"
    }
   ],
   "source": [
    "engine.produce_classification_score(\n",
    "    score_type=BinaryClassificationScoreType.RECALL, true=true, predicted=predicted\n",
    ")"
   ]
  }
 ],
 "metadata": {
  "kernelspec": {
   "display_name": ".venv",
   "language": "python",
   "name": "python3"
  },
  "language_info": {
   "codemirror_mode": {
    "name": "ipython",
    "version": 3
   },
   "file_extension": ".py",
   "mimetype": "text/x-python",
   "name": "python",
   "nbconvert_exporter": "python",
   "pygments_lexer": "ipython3",
   "version": "3.11.8"
  }
 },
 "nbformat": 4,
 "nbformat_minor": 2
}
