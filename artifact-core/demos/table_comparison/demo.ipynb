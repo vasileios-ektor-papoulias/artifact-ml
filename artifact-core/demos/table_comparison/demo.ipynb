{
 "cells": [
  {
   "cell_type": "markdown",
   "metadata": {},
   "source": [
    "# Demo: Table Comparison Engine\n",
    "\n",
    "This notebook demonstrates how to use the table comparison engine from the core library of Artifact-ML to evaluate a synthetic tabular dataset.\n",
    "\n",
    "The engine provides tools enabling the quantitative evaluation of distributional similarity between the synthetic and real datasets.\n",
    "\n",
    "We'll walk through:\n",
    "\n",
    "1. Loading real and synthetic datasets\n",
    "2. Setting up the validation engine\n",
    "3. Computing various validation artifacts"
   ]
  },
  {
   "cell_type": "markdown",
   "metadata": {},
   "source": [
    "## Setup\n",
    "\n",
    "First, we'll set up our environment and import the necessary libraries."
   ]
  },
  {
   "cell_type": "code",
   "execution_count": 1,
   "metadata": {},
   "outputs": [],
   "source": [
    "%matplotlib inline\n",
    "%load_ext autoreload\n",
    "%autoreload 2"
   ]
  },
  {
   "cell_type": "code",
   "execution_count": 2,
   "metadata": {},
   "outputs": [
    {
     "data": {
      "text/plain": [
       "WindowsPath('c:/Users/hecto/Codebase/artifact-ml/artifact-core/demos/table_comparison')"
      ]
     },
     "execution_count": 2,
     "metadata": {},
     "output_type": "execute_result"
    }
   ],
   "source": [
    "import os\n",
    "from pathlib import Path\n",
    "\n",
    "artifact_core_root = Path().absolute().parent.parent\n",
    "\n",
    "os.chdir(artifact_core_root / \"demos\" / \"table_comparison\")\n",
    "\n",
    "Path().absolute()"
   ]
  },
  {
   "cell_type": "code",
   "execution_count": 3,
   "metadata": {},
   "outputs": [
    {
     "name": "stdout",
     "output_type": "stream",
     "text": [
      "artifact_core.table_comparison.artifacts.array_collections\n",
      "artifact_core.table_comparison.artifacts.array_collections.descriptive_stats\n",
      "artifact_core.table_comparison.artifacts.arrays\n",
      "artifact_core.table_comparison.artifacts.base\n",
      "artifact_core.table_comparison.artifacts.plot_collections\n",
      "artifact_core.table_comparison.artifacts.plot_collections.cdf\n",
      "artifact_core.table_comparison.artifacts.plot_collections.correlations\n",
      "artifact_core.table_comparison.artifacts.plot_collections.pdf\n",
      "artifact_core.table_comparison.artifacts.plots\n",
      "artifact_core.table_comparison.artifacts.plots.cdf\n",
      "artifact_core.table_comparison.artifacts.plots.correlations\n",
      "artifact_core.table_comparison.artifacts.plots.descriptive_stats\n",
      "artifact_core.table_comparison.artifacts.plots.pca\n",
      "artifact_core.table_comparison.artifacts.plots.pdf\n",
      "artifact_core.table_comparison.artifacts.plots.truncated_svd\n",
      "artifact_core.table_comparison.artifacts.plots.tsne\n",
      "artifact_core.table_comparison.artifacts.score_collections\n",
      "artifact_core.table_comparison.artifacts.score_collections.js\n",
      "artifact_core.table_comparison.artifacts.scores\n",
      "artifact_core.table_comparison.artifacts.scores.correlation\n",
      "artifact_core.table_comparison.artifacts.scores.mean_js\n",
      "custom_artifacts.custom_score\n"
     ]
    }
   ],
   "source": [
    "from pathlib import Path\n",
    "\n",
    "import pandas as pd\n",
    "from artifact_core.table_comparison import (\n",
    "    TableComparisonEngine,\n",
    "    TableComparisonPlotType,\n",
    "    TableComparisonScoreCollectionType,\n",
    "    TableComparisonScoreType,\n",
    "    TabularDataSpec,\n",
    ")"
   ]
  },
  {
   "cell_type": "markdown",
   "metadata": {},
   "source": [
    "## Loading the Data\n",
    "\n",
    "We'll load both real and synthetic datasets from CSV files. These datasets appear to contain health-related information that we'll analyze and compare."
   ]
  },
  {
   "cell_type": "code",
   "execution_count": 4,
   "metadata": {},
   "outputs": [],
   "source": [
    "df_real = pd.read_csv(artifact_core_root / \"assets/real.csv\")\n",
    "df_synthetic = pd.read_csv(artifact_core_root / \"assets/synthetic.csv\")"
   ]
  },
  {
   "cell_type": "markdown",
   "metadata": {},
   "source": [
    "Let's examine the real dataset to understand its structure and content:"
   ]
  },
  {
   "cell_type": "code",
   "execution_count": 5,
   "metadata": {},
   "outputs": [
    {
     "data": {
      "text/html": [
       "<div>\n",
       "<style scoped>\n",
       "    .dataframe tbody tr th:only-of-type {\n",
       "        vertical-align: middle;\n",
       "    }\n",
       "\n",
       "    .dataframe tbody tr th {\n",
       "        vertical-align: top;\n",
       "    }\n",
       "\n",
       "    .dataframe thead th {\n",
       "        text-align: right;\n",
       "    }\n",
       "</style>\n",
       "<table border=\"1\" class=\"dataframe\">\n",
       "  <thead>\n",
       "    <tr style=\"text-align: right;\">\n",
       "      <th></th>\n",
       "      <th>Age</th>\n",
       "      <th>Sex</th>\n",
       "      <th>ChestPainType</th>\n",
       "      <th>RestingBP</th>\n",
       "      <th>Cholesterol</th>\n",
       "      <th>FastingBS</th>\n",
       "      <th>RestingECG</th>\n",
       "      <th>MaxHR</th>\n",
       "      <th>ExerciseAngina</th>\n",
       "      <th>Oldpeak</th>\n",
       "      <th>ST_Slope</th>\n",
       "      <th>HeartDisease</th>\n",
       "    </tr>\n",
       "  </thead>\n",
       "  <tbody>\n",
       "    <tr>\n",
       "      <th>0</th>\n",
       "      <td>40</td>\n",
       "      <td>M</td>\n",
       "      <td>ATA</td>\n",
       "      <td>140</td>\n",
       "      <td>289</td>\n",
       "      <td>0</td>\n",
       "      <td>Normal</td>\n",
       "      <td>172</td>\n",
       "      <td>N</td>\n",
       "      <td>0.0</td>\n",
       "      <td>Up</td>\n",
       "      <td>0</td>\n",
       "    </tr>\n",
       "    <tr>\n",
       "      <th>1</th>\n",
       "      <td>49</td>\n",
       "      <td>F</td>\n",
       "      <td>NAP</td>\n",
       "      <td>160</td>\n",
       "      <td>180</td>\n",
       "      <td>0</td>\n",
       "      <td>Normal</td>\n",
       "      <td>156</td>\n",
       "      <td>N</td>\n",
       "      <td>1.0</td>\n",
       "      <td>Flat</td>\n",
       "      <td>1</td>\n",
       "    </tr>\n",
       "    <tr>\n",
       "      <th>2</th>\n",
       "      <td>37</td>\n",
       "      <td>M</td>\n",
       "      <td>ATA</td>\n",
       "      <td>130</td>\n",
       "      <td>283</td>\n",
       "      <td>0</td>\n",
       "      <td>ST</td>\n",
       "      <td>98</td>\n",
       "      <td>N</td>\n",
       "      <td>0.0</td>\n",
       "      <td>Up</td>\n",
       "      <td>0</td>\n",
       "    </tr>\n",
       "    <tr>\n",
       "      <th>3</th>\n",
       "      <td>48</td>\n",
       "      <td>F</td>\n",
       "      <td>ASY</td>\n",
       "      <td>138</td>\n",
       "      <td>214</td>\n",
       "      <td>0</td>\n",
       "      <td>Normal</td>\n",
       "      <td>108</td>\n",
       "      <td>Y</td>\n",
       "      <td>1.5</td>\n",
       "      <td>Flat</td>\n",
       "      <td>1</td>\n",
       "    </tr>\n",
       "    <tr>\n",
       "      <th>4</th>\n",
       "      <td>54</td>\n",
       "      <td>M</td>\n",
       "      <td>NAP</td>\n",
       "      <td>150</td>\n",
       "      <td>195</td>\n",
       "      <td>0</td>\n",
       "      <td>Normal</td>\n",
       "      <td>122</td>\n",
       "      <td>N</td>\n",
       "      <td>0.0</td>\n",
       "      <td>Up</td>\n",
       "      <td>0</td>\n",
       "    </tr>\n",
       "    <tr>\n",
       "      <th>...</th>\n",
       "      <td>...</td>\n",
       "      <td>...</td>\n",
       "      <td>...</td>\n",
       "      <td>...</td>\n",
       "      <td>...</td>\n",
       "      <td>...</td>\n",
       "      <td>...</td>\n",
       "      <td>...</td>\n",
       "      <td>...</td>\n",
       "      <td>...</td>\n",
       "      <td>...</td>\n",
       "      <td>...</td>\n",
       "    </tr>\n",
       "    <tr>\n",
       "      <th>913</th>\n",
       "      <td>45</td>\n",
       "      <td>M</td>\n",
       "      <td>TA</td>\n",
       "      <td>110</td>\n",
       "      <td>264</td>\n",
       "      <td>0</td>\n",
       "      <td>Normal</td>\n",
       "      <td>132</td>\n",
       "      <td>N</td>\n",
       "      <td>1.2</td>\n",
       "      <td>Flat</td>\n",
       "      <td>1</td>\n",
       "    </tr>\n",
       "    <tr>\n",
       "      <th>914</th>\n",
       "      <td>68</td>\n",
       "      <td>M</td>\n",
       "      <td>ASY</td>\n",
       "      <td>144</td>\n",
       "      <td>193</td>\n",
       "      <td>1</td>\n",
       "      <td>Normal</td>\n",
       "      <td>141</td>\n",
       "      <td>N</td>\n",
       "      <td>3.4</td>\n",
       "      <td>Flat</td>\n",
       "      <td>1</td>\n",
       "    </tr>\n",
       "    <tr>\n",
       "      <th>915</th>\n",
       "      <td>57</td>\n",
       "      <td>M</td>\n",
       "      <td>ASY</td>\n",
       "      <td>130</td>\n",
       "      <td>131</td>\n",
       "      <td>0</td>\n",
       "      <td>Normal</td>\n",
       "      <td>115</td>\n",
       "      <td>Y</td>\n",
       "      <td>1.2</td>\n",
       "      <td>Flat</td>\n",
       "      <td>1</td>\n",
       "    </tr>\n",
       "    <tr>\n",
       "      <th>916</th>\n",
       "      <td>57</td>\n",
       "      <td>F</td>\n",
       "      <td>ATA</td>\n",
       "      <td>130</td>\n",
       "      <td>236</td>\n",
       "      <td>0</td>\n",
       "      <td>LVH</td>\n",
       "      <td>174</td>\n",
       "      <td>N</td>\n",
       "      <td>0.0</td>\n",
       "      <td>Flat</td>\n",
       "      <td>1</td>\n",
       "    </tr>\n",
       "    <tr>\n",
       "      <th>917</th>\n",
       "      <td>38</td>\n",
       "      <td>M</td>\n",
       "      <td>NAP</td>\n",
       "      <td>138</td>\n",
       "      <td>175</td>\n",
       "      <td>0</td>\n",
       "      <td>Normal</td>\n",
       "      <td>173</td>\n",
       "      <td>N</td>\n",
       "      <td>0.0</td>\n",
       "      <td>Up</td>\n",
       "      <td>0</td>\n",
       "    </tr>\n",
       "  </tbody>\n",
       "</table>\n",
       "<p>918 rows × 12 columns</p>\n",
       "</div>"
      ],
      "text/plain": [
       "     Age Sex ChestPainType  RestingBP  Cholesterol  FastingBS RestingECG  \\\n",
       "0     40   M           ATA        140          289          0     Normal   \n",
       "1     49   F           NAP        160          180          0     Normal   \n",
       "2     37   M           ATA        130          283          0         ST   \n",
       "3     48   F           ASY        138          214          0     Normal   \n",
       "4     54   M           NAP        150          195          0     Normal   \n",
       "..   ...  ..           ...        ...          ...        ...        ...   \n",
       "913   45   M            TA        110          264          0     Normal   \n",
       "914   68   M           ASY        144          193          1     Normal   \n",
       "915   57   M           ASY        130          131          0     Normal   \n",
       "916   57   F           ATA        130          236          0        LVH   \n",
       "917   38   M           NAP        138          175          0     Normal   \n",
       "\n",
       "     MaxHR ExerciseAngina  Oldpeak ST_Slope  HeartDisease  \n",
       "0      172              N      0.0       Up             0  \n",
       "1      156              N      1.0     Flat             1  \n",
       "2       98              N      0.0       Up             0  \n",
       "3      108              Y      1.5     Flat             1  \n",
       "4      122              N      0.0       Up             0  \n",
       "..     ...            ...      ...      ...           ...  \n",
       "913    132              N      1.2     Flat             1  \n",
       "914    141              N      3.4     Flat             1  \n",
       "915    115              Y      1.2     Flat             1  \n",
       "916    174              N      0.0     Flat             1  \n",
       "917    173              N      0.0       Up             0  \n",
       "\n",
       "[918 rows x 12 columns]"
      ]
     },
     "execution_count": 5,
     "metadata": {},
     "output_type": "execute_result"
    }
   ],
   "source": [
    "df_real"
   ]
  },
  {
   "cell_type": "markdown",
   "metadata": {},
   "source": [
    "## Resource Specification Setup\n",
    "\n",
    "Before we can compare the datasets, we need to specify static dataset metadata.\n",
    "\n",
    "This information helps the table comparison engine calibrate its validation capabilities."
   ]
  },
  {
   "cell_type": "code",
   "execution_count": 7,
   "metadata": {},
   "outputs": [],
   "source": [
    "ls_cts_features = [\"Age\", \"RestingBP\", \"Cholesterol\", \"MaxHR\", \"Oldpeak\"]\n",
    "\n",
    "resource_spec = TabularDataSpec.from_df(\n",
    "    df=df_real,\n",
    "    ls_cts_features=ls_cts_features,\n",
    "    ls_cat_features=[feature for feature in df_real.columns if feature not in ls_cts_features],\n",
    ")"
   ]
  },
  {
   "cell_type": "markdown",
   "metadata": {},
   "source": [
    "## Initializing the Validation Engine\n",
    "\n",
    "Now we'll initialize the TableComparisonEngine with our resource specification. This engine will handle all comparison operations between our real and synthetic datasets."
   ]
  },
  {
   "cell_type": "code",
   "execution_count": 8,
   "metadata": {},
   "outputs": [],
   "source": [
    "engine = TableComparisonEngine(resource_spec=resource_spec)"
   ]
  },
  {
   "cell_type": "markdown",
   "metadata": {},
   "source": [
    "## Computing Statistical Distance Metrics\n",
    "\n",
    "### Jensen-Shannon Distance\n",
    "\n",
    "The Jensen-Shannon (JS) distance is a measure of similarity between probability distributions. It's based on the Kullback-Leibler divergence but is symmetric and always has a finite value.\n",
    "\n",
    "Values closer to 0 indicate more similar distributions, while values closer to 1 indicate more dissimilar distributions."
   ]
  },
  {
   "cell_type": "code",
   "execution_count": 9,
   "metadata": {},
   "outputs": [
    {
     "data": {
      "text/plain": [
       "{'Sex': 0.027609904421147052,\n",
       " 'ChestPainType': 0.04196292783327019,\n",
       " 'FastingBS': 0.028450062505962683,\n",
       " 'RestingECG': 0.01496240981191071,\n",
       " 'ExerciseAngina': 0.0015689800289268006,\n",
       " 'ST_Slope': 0.02990681035010991,\n",
       " 'HeartDisease': 0.005418597769725816,\n",
       " 'Age': 0.08741338086398726,\n",
       " 'RestingBP': 0.10629665945207548,\n",
       " 'Cholesterol': 0.0546107231714023,\n",
       " 'MaxHR': 0.1755840123934977,\n",
       " 'Oldpeak': 0.13554524154039194}"
      ]
     },
     "execution_count": 9,
     "metadata": {},
     "output_type": "execute_result"
    }
   ],
   "source": [
    "engine.produce_dataset_comparison_score_collection(\n",
    "    score_collection_type=TableComparisonScoreCollectionType.JS_DISTANCE,\n",
    "    dataset_real=df_real,\n",
    "    dataset_synthetic=df_synthetic,\n",
    ")"
   ]
  },
  {
   "cell_type": "markdown",
   "metadata": {},
   "source": [
    "### Mean Jensen-Shannon Distance\n",
    "\n",
    "This computes the mean JS distance across all features, providing a single summary metric for how well the synthetic data matches the real data overall."
   ]
  },
  {
   "cell_type": "code",
   "execution_count": null,
   "metadata": {},
   "outputs": [],
   "source": [
    "engine.produce_dataset_comparison_score(\n",
    "    score_type=TableComparisonScoreType.MEAN_JS_DISTANCE,\n",
    "    dataset_real=df_real,\n",
    "    dataset_synthetic=df_synthetic,\n",
    ")"
   ]
  },
  {
   "cell_type": "markdown",
   "metadata": {},
   "source": [
    "## Visualizing Dataset Comparisons\n",
    "\n",
    "### Descriptive Statistics Comparison\n",
    "\n",
    "This plot compares basic descriptive statistics (mean, median, standard deviation, etc.) between the real and synthetic datasets for each feature. It helps identify if the synthetic data captures the central tendencies and variability of the real data."
   ]
  },
  {
   "cell_type": "code",
   "execution_count": null,
   "metadata": {},
   "outputs": [],
   "source": [
    "engine.produce_dataset_comparison_plot(\n",
    "    plot_type=TableComparisonPlotType.DESCRIPTIVE_STATS_ALIGNMENT,\n",
    "    dataset_real=df_real,\n",
    "    dataset_synthetic=df_synthetic,\n",
    ")"
   ]
  },
  {
   "cell_type": "markdown",
   "metadata": {},
   "source": [
    "### Probability Density Function (PDF) Comparison\n",
    "\n",
    "The PDF plots show the distribution shapes for each feature in both datasets. This helps visualize how well the synthetic data captures the distribution characteristics of the real data, including skewness, modality, and outliers."
   ]
  },
  {
   "cell_type": "code",
   "execution_count": null,
   "metadata": {},
   "outputs": [],
   "source": [
    "engine.produce_dataset_comparison_plot(\n",
    "    plot_type=TableComparisonPlotType.PDF, dataset_real=df_real, dataset_synthetic=df_synthetic\n",
    ")"
   ]
  },
  {
   "cell_type": "markdown",
   "metadata": {},
   "source": [
    "### Cumulative Distribution Function (CDF) Comparison\n",
    "\n",
    "CDF plots show the cumulative probability distributions for each feature. These are particularly useful for identifying differences in percentiles and the overall range of values between the real and synthetic datasets."
   ]
  },
  {
   "cell_type": "code",
   "execution_count": null,
   "metadata": {},
   "outputs": [],
   "source": [
    "engine.produce_dataset_comparison_plot(\n",
    "    plot_type=TableComparisonPlotType.CDF, dataset_real=df_real, dataset_synthetic=df_synthetic\n",
    ")"
   ]
  },
  {
   "cell_type": "markdown",
   "metadata": {},
   "source": [
    "### Principal Component Analysis (PCA) Projection\n",
    "\n",
    "PCA reduces the dimensionality of the data while preserving as much variance as possible. This plot projects both datasets into a lower-dimensional space (typically 2D), allowing us to visualize how well the synthetic data captures the overall structure and relationships in the real data.\n",
    "\n",
    "If the synthetic data points overlap significantly with the real data points in this projection, it suggests that the synthetic data is capturing the joint distribution of features well."
   ]
  },
  {
   "cell_type": "code",
   "execution_count": null,
   "metadata": {},
   "outputs": [],
   "source": [
    "engine.produce_dataset_comparison_plot(\n",
    "    plot_type=TableComparisonPlotType.PCA_JUXTAPOSITION,\n",
    "    dataset_real=df_real,\n",
    "    dataset_synthetic=df_synthetic,\n",
    ")"
   ]
  },
  {
   "cell_type": "markdown",
   "metadata": {},
   "source": [
    "### Custom Score Collection\n",
    "\n",
    "To cater to unforeseen user requirements, Artifact-ML accepts custom (user-defined) validation artifacts without restriction:"
   ]
  },
  {
   "cell_type": "code",
   "execution_count": 10,
   "metadata": {},
   "outputs": [
    {
     "data": {
      "text/plain": [
       "0"
      ]
     },
     "execution_count": 10,
     "metadata": {},
     "output_type": "execute_result"
    }
   ],
   "source": [
    "engine.produce_dataset_comparison_score(\n",
    "    score_type=\"CUSTOM_SCORE\",\n",
    "    dataset_real=df_real,\n",
    "    dataset_synthetic=df_synthetic,\n",
    ")"
   ]
  }
 ],
 "metadata": {
  "kernelspec": {
   "display_name": "Python 3",
   "language": "python",
   "name": "python3"
  },
  "language_info": {
   "codemirror_mode": {
    "name": "ipython",
    "version": 3
   },
   "file_extension": ".py",
   "mimetype": "text/x-python",
   "name": "python",
   "nbconvert_exporter": "python",
   "pygments_lexer": "ipython3",
   "version": "3.11.8"
  }
 },
 "nbformat": 4,
 "nbformat_minor": 4
}
