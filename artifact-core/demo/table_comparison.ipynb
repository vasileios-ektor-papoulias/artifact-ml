{
 "cells": [
  {
   "cell_type": "markdown",
   "metadata": {},
   "source": [
    "# Demo: Table Comparison Engine\n",
    "\n",
    "This notebook demonstrates how to use the table comparison engine from the core library of Artifact-ML to evaluate a synthetic tabular dataset.\n",
    "\n",
    "The engine provides tools enabling the quantitative evaluation of distributional similarity between the synthetic and real datasets.\n",
    "\n",
    "We'll walk through:\n",
    "\n",
    "1. Loading real and synthetic datasets\n",
    "2. Setting up the validation engine\n",
    "3. Computing various comparison metrics\n",
    "4. Generating visualizations to assess data similarity"
   ]
  },
  {
   "cell_type": "markdown",
   "metadata": {},
   "source": [
    "## Setup\n",
    "\n",
    "First, we'll set up our environment and import the necessary libraries."
   ]
  },
  {
   "cell_type": "code",
   "execution_count": null,
   "metadata": {},
   "outputs": [],
   "source": [
    "%matplotlib inline\n",
    "%load_ext autoreload\n",
    "%autoreload 2"
   ]
  },
  {
   "cell_type": "code",
   "execution_count": null,
   "metadata": {},
   "outputs": [],
   "source": [
    "from pathlib import Path\n",
    "\n",
    "import pandas as pd\n",
    "from artifact_core.table_comparison import (\n",
    "    TableComparisonEngine,\n",
    "    TableComparisonPlotType,\n",
    "    TableComparisonScoreCollectionType,\n",
    "    TableComparisonScoreType,\n",
    "    TabularDataSpec,\n",
    ")"
   ]
  },
  {
   "cell_type": "markdown",
   "metadata": {},
   "source": [
    "## Loading the Data\n",
    "\n",
    "We'll load both real and synthetic datasets from CSV files. These datasets appear to contain health-related information that we'll analyze and compare."
   ]
  },
  {
   "cell_type": "code",
   "execution_count": null,
   "metadata": {},
   "outputs": [],
   "source": [
    "artifact_core_root = Path().absolute().parent\n",
    "\n",
    "df_real = pd.read_csv(artifact_core_root / \"assets/real.csv\")\n",
    "df_synthetic = pd.read_csv(artifact_core_root / \"assets/synthetic.csv\")"
   ]
  },
  {
   "cell_type": "markdown",
   "metadata": {},
   "source": [
    "Let's examine the real dataset to understand its structure and content:"
   ]
  },
  {
   "cell_type": "code",
   "execution_count": null,
   "metadata": {},
   "outputs": [],
   "source": [
    "df_real"
   ]
  },
  {
   "cell_type": "markdown",
   "metadata": {},
   "source": [
    "## Resource Specification Setup\n",
    "\n",
    "Before we can compare the datasets, we need to specify which features are continuous and which are categorical.\n",
    "\n",
    "This information helps the dataset comparison engine apply appropriate comparison metrics for each feature type."
   ]
  },
  {
   "cell_type": "code",
   "execution_count": null,
   "metadata": {},
   "outputs": [],
   "source": [
    "ls_cts_features = [\"Age\", \"RestingBP\", \"Cholesterol\", \"MaxHR\", \"Oldpeak\"]\n",
    "\n",
    "resource_spec = TabularDataSpec.from_df(\n",
    "    df=df_real,\n",
    "    ls_cts_features=ls_cts_features,\n",
    "    ls_cat_features=[feature for feature in df_real.columns if feature not in ls_cts_features],\n",
    ")"
   ]
  },
  {
   "cell_type": "markdown",
   "metadata": {},
   "source": [
    "## Initializing the Validation Engine\n",
    "\n",
    "Now we'll initialize the TableComparisonEngine with our resource specification. This engine will handle all comparison operations between our real and synthetic datasets."
   ]
  },
  {
   "cell_type": "code",
   "execution_count": null,
   "metadata": {},
   "outputs": [],
   "source": [
    "engine = TableComparisonEngine(resource_spec=resource_spec)"
   ]
  },
  {
   "cell_type": "markdown",
   "metadata": {},
   "source": [
    "## Computing Statistical Distance Metrics\n",
    "\n",
    "### Jensen-Shannon Distance\n",
    "\n",
    "The Jensen-Shannon (JS) distance is a measure of similarity between probability distributions. It's based on the Kullback-Leibler divergence but is symmetric and always has a finite value.\n",
    "\n",
    "Values closer to 0 indicate more similar distributions, while values closer to 1 indicate more dissimilar distributions."
   ]
  },
  {
   "cell_type": "code",
   "execution_count": null,
   "metadata": {},
   "outputs": [],
   "source": [
    "engine.produce_dataset_comparison_score_collection(\n",
    "    score_collection_type=TableComparisonScoreCollectionType.JS_DISTANCE,\n",
    "    dataset_real=df_real,\n",
    "    dataset_synthetic=df_synthetic,\n",
    ")"
   ]
  },
  {
   "cell_type": "markdown",
   "metadata": {},
   "source": [
    "### Mean Jensen-Shannon Distance\n",
    "\n",
    "This computes the mean JS distance across all features, providing a single summary metric for how well the synthetic data matches the real data overall."
   ]
  },
  {
   "cell_type": "code",
   "execution_count": null,
   "metadata": {},
   "outputs": [],
   "source": [
    "engine.produce_dataset_comparison_score(\n",
    "    score_type=TableComparisonScoreType.MEAN_JS_DISTANCE,\n",
    "    dataset_real=df_real,\n",
    "    dataset_synthetic=df_synthetic,\n",
    ")"
   ]
  },
  {
   "cell_type": "markdown",
   "metadata": {},
   "source": [
    "## Visualizing Dataset Comparisons\n",
    "\n",
    "### Descriptive Statistics Comparison\n",
    "\n",
    "This plot compares basic descriptive statistics (mean, median, standard deviation, etc.) between the real and synthetic datasets for each feature. It helps identify if the synthetic data captures the central tendencies and variability of the real data."
   ]
  },
  {
   "cell_type": "code",
   "execution_count": null,
   "metadata": {},
   "outputs": [],
   "source": [
    "engine.produce_dataset_comparison_plot(\n",
    "    plot_type=TableComparisonPlotType.DESCRIPTIVE_STATS_ALIGNMENT_PLOT,\n",
    "    dataset_real=df_real,\n",
    "    dataset_synthetic=df_synthetic,\n",
    ")"
   ]
  },
  {
   "cell_type": "markdown",
   "metadata": {},
   "source": [
    "### Probability Density Function (PDF) Comparison\n",
    "\n",
    "The PDF plots show the distribution shapes for each feature in both datasets. This helps visualize how well the synthetic data captures the distribution characteristics of the real data, including skewness, modality, and outliers."
   ]
  },
  {
   "cell_type": "code",
   "execution_count": null,
   "metadata": {},
   "outputs": [],
   "source": [
    "engine.produce_dataset_comparison_plot(\n",
    "    plot_type=TableComparisonPlotType.PDF_PLOT, dataset_real=df_real, dataset_synthetic=df_synthetic\n",
    ")"
   ]
  },
  {
   "cell_type": "markdown",
   "metadata": {},
   "source": [
    "### Cumulative Distribution Function (CDF) Comparison\n",
    "\n",
    "CDF plots show the cumulative probability distributions for each feature. These are particularly useful for identifying differences in percentiles and the overall range of values between the real and synthetic datasets."
   ]
  },
  {
   "cell_type": "code",
   "execution_count": null,
   "metadata": {},
   "outputs": [],
   "source": [
    "engine.produce_dataset_comparison_plot(\n",
    "    plot_type=TableComparisonPlotType.CDF_PLOT, dataset_real=df_real, dataset_synthetic=df_synthetic\n",
    ")"
   ]
  },
  {
   "cell_type": "markdown",
   "metadata": {},
   "source": [
    "### Principal Component Analysis (PCA) Projection\n",
    "\n",
    "PCA reduces the dimensionality of the data while preserving as much variance as possible. This plot projects both datasets into a lower-dimensional space (typically 2D), allowing us to visualize how well the synthetic data captures the overall structure and relationships in the real data.\n",
    "\n",
    "If the synthetic data points overlap significantly with the real data points in this projection, it suggests that the synthetic data is capturing the joint distribution of features well."
   ]
  },
  {
   "cell_type": "code",
   "execution_count": null,
   "metadata": {},
   "outputs": [],
   "source": [
    "engine.produce_dataset_comparison_plot(\n",
    "    plot_type=TableComparisonPlotType.PCA_PROJECTION_PLOT,\n",
    "    dataset_real=df_real,\n",
    "    dataset_synthetic=df_synthetic,\n",
    ")"
   ]
  },
  {
   "cell_type": "code",
   "execution_count": null,
   "metadata": {},
   "outputs": [],
   "source": [
    "engine.produce_dataset_comparison_score_collection(\n",
    "    score_collection_type=\"BANI\",\n",
    "    dataset_real=df_real,\n",
    "    dataset_synthetic=df_synthetic,\n",
    ")"
   ]
  }
 ],
 "metadata": {
  "kernelspec": {
   "display_name": "Python 3",
   "language": "python",
   "name": "python3"
  },
  "language_info": {
   "codemirror_mode": {
    "name": "ipython",
    "version": 3
   },
   "file_extension": ".py",
   "mimetype": "text/x-python",
   "name": "python",
   "nbconvert_exporter": "python",
   "pygments_lexer": "ipython3",
   "version": "3.11.8"
  }
 },
 "nbformat": 4,
 "nbformat_minor": 4
}
